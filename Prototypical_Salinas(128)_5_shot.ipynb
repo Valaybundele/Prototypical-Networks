{
  "nbformat": 4,
  "nbformat_minor": 0,
  "metadata": {
    "colab": {
      "name": "Prototypical_Salinas(128)_5_shot.ipynb",
      "provenance": [],
      "collapsed_sections": []
    },
    "kernelspec": {
      "display_name": "Python 3",
      "language": "python",
      "name": "python3"
    },
    "language_info": {
      "codemirror_mode": {
        "name": "ipython",
        "version": 3
      },
      "file_extension": ".py",
      "mimetype": "text/x-python",
      "name": "python",
      "nbconvert_exporter": "python",
      "pygments_lexer": "ipython3",
      "version": "3.7.3"
    },
    "accelerator": "GPU"
  },
  "cells": [
    {
      "cell_type": "code",
      "metadata": {
        "colab_type": "code",
        "id": "IawStAMhtY0q",
        "colab": {}
      },
      "source": [
        "from google.colab import drive\n",
        "drive.mount('/content/drive/')"
      ],
      "execution_count": null,
      "outputs": []
    },
    {
      "cell_type": "code",
      "metadata": {
        "colab_type": "code",
        "id": "SctI2LsOt3dh",
        "colab": {}
      },
      "source": [
        "!pip install spectral"
      ],
      "execution_count": null,
      "outputs": []
    },
    {
      "cell_type": "code",
      "metadata": {
        "colab_type": "code",
        "id": "xi7TOrG8tO6X",
        "colab": {
          "base_uri": "https://localhost:8080/",
          "height": 17
        },
        "outputId": "14da1874-c203-46f4-9607-3ec67fa0e908"
      },
      "source": [
        "%tensorflow_version 2.x\n",
        "import tensorflow as tf\n",
        "import random\n",
        "from tensorflow.keras import Sequential,layers\n",
        "from tensorflow.keras.models import Model\n",
        "from tensorflow.keras.optimizers import Adam\n",
        "from tensorflow.keras.callbacks import ModelCheckpoint\n",
        "import statistics\n",
        "from sklearn.decomposition import PCA\n",
        "from sklearn.model_selection import train_test_split\n",
        "from sklearn.metrics import confusion_matrix, accuracy_score, classification_report, cohen_kappa_score\n",
        "import tensorflow_probability as tfp\n",
        "from operator import truediv\n",
        "from tensorflow.compat.v1.distributions import Bernoulli\n",
        "from plotly.offline import init_notebook_mode\n",
        "\n",
        "import numpy as np\n",
        "import matplotlib.pyplot as plt\n",
        "import scipy.io as sio\n",
        "import os\n",
        "import spectral\n",
        "import tensorflow as tf\n",
        "from tensorflow.python.keras import backend as K\n",
        "\n",
        "init_notebook_mode(connected=True)\n",
        "%matplotlib inline"
      ],
      "execution_count": null,
      "outputs": [
        {
          "output_type": "display_data",
          "data": {
            "text/html": [
              "        <script type=\"text/javascript\">\n",
              "        window.PlotlyConfig = {MathJaxConfig: 'local'};\n",
              "        if (window.MathJax) {MathJax.Hub.Config({SVG: {font: \"STIX-Web\"}});}\n",
              "        if (typeof require !== 'undefined') {\n",
              "        require.undef(\"plotly\");\n",
              "        requirejs.config({\n",
              "            paths: {\n",
              "                'plotly': ['https://cdn.plot.ly/plotly-latest.min']\n",
              "            }\n",
              "        });\n",
              "        require(['plotly'], function(Plotly) {\n",
              "            window._Plotly = Plotly;\n",
              "        });\n",
              "        }\n",
              "        </script>\n",
              "        "
            ]
          },
          "metadata": {
            "tags": []
          }
        }
      ]
    },
    {
      "cell_type": "code",
      "metadata": {
        "id": "dVy7URxfN6tc",
        "colab_type": "code",
        "colab": {}
      },
      "source": [
        "# Global variables\n",
        "im_width, im_height, im_depth, im_channel = 11,11,30,1\n",
        "mc_loss_weight = 5"
      ],
      "execution_count": null,
      "outputs": []
    },
    {
      "cell_type": "markdown",
      "metadata": {
        "id": "TaFcFKyBN6tf",
        "colab_type": "text"
      },
      "source": [
        "## Model Construction"
      ]
    },
    {
      "cell_type": "code",
      "metadata": {
        "id": "lmFAiil_N6tf",
        "colab_type": "code",
        "colab": {}
      },
      "source": [
        "def calc_euclidian_dists(x, y):\n",
        "  # x : (n,d)\n",
        "  # y : (m,d)\n",
        "    n = x.shape[0]\n",
        "    m = y.shape[0]\n",
        "    x = tf.tile(tf.expand_dims(x, 1), [1, m, 1])\n",
        "    y = tf.tile(tf.expand_dims(y, 0), [n, 1, 1])\n",
        "    return tf.reduce_mean(tf.math.pow(x - y, 2), 2)"
      ],
      "execution_count": null,
      "outputs": []
    },
    {
      "cell_type": "code",
      "metadata": {
        "id": "215a8XhEN6ti",
        "colab_type": "code",
        "colab": {}
      },
      "source": [
        "input_layer = layers.Input(shape = (im_height, im_width, im_depth, im_channel))\n",
        "out1 = layers.Conv3D(filters=8, kernel_size=(3,3,7), activation='relu',input_shape=(im_height, im_width, im_depth, im_channel))(input_layer)\n",
        "out2 = layers.Conv3D(filters=16, kernel_size=(3,3,5), activation='relu')(out1)\n",
        "out3 = layers.Conv3D(filters=32, kernel_size=(3,3,3), activation= 'relu')(out2)\n",
        "out3 = layers.Reshape((out3.shape[1], out3.shape[2], out3.shape[3]*out3.shape[4]))(out3)\n",
        "out4 = layers.Flatten()(out3)\n",
        "out4 = layers.Dropout(0.4)(out4, training=True)\n",
        "out4 = layers.Dense(256, activation='relu')(out4)\n",
        "out5 = layers.Dropout(0.4)(out4,training=True)\n",
        "out5 = layers.Dense(128, activation='relu')(out5)\n",
        "model = Model(inputs=input_layer,outputs=out5)\n",
        "model.summary()"
      ],
      "execution_count": null,
      "outputs": []
    },
    {
      "cell_type": "code",
      "metadata": {
        "id": "wAOZ0z1rN6to",
        "colab_type": "code",
        "colab": {}
      },
      "source": [
        "class Prototypical(Model):\n",
        "    def __init__(self, model, w, h, d, c):\n",
        "        super(Prototypical, self).__init__()\n",
        "        self.w, self.h, self.d, self.c = w, h, d, c\n",
        "        self.encoder = model\n",
        "\n",
        "    def call(self, support, query, support_labels, query_labels, K, C, N,n_times,training=True):\n",
        "      n_class = C                                                               #10\n",
        "      n_support = K                                                             #5\n",
        "      n_query = N                                                               #15 \n",
        "\n",
        "      if training == True : \n",
        "        loss = 0\n",
        "        mc_predictions = []       \n",
        "        dists_list = []                                              # list of predictions for multiple passes\n",
        "        for i in range(n_times) :\n",
        "          y = np.zeros((int(C*N),C))                                              #(150,10)\n",
        "          for i in range(int(C*N)) :\n",
        "            x = support_labels.index(query_labels[i])                           # creation of 1-hot for true labels\n",
        "            y[i][x] = 1.                                                # n_times passing every query image for calculating variance \n",
        "          cat = tf.concat([support,query], axis=0)                              # [200,9,9,20,1])   \n",
        "          z = self.encoder(cat)                                                 # [200, 320]\n",
        "          # Divide embedding into support and query\n",
        "          z_prototypes = tf.reshape(z[:n_class * n_support],[n_class, n_support, z.shape[-1]])   #[10, 5, 320])\n",
        "          # Prototypes are means of n_support examples\n",
        "          z_prototypes = tf.math.reduce_mean(z_prototypes, axis=1)              #[10, 320]\n",
        "          z_query = z[n_class * n_support:]                                     #[150, 320]                         \n",
        "          # Calculate distances between query and prototypes\n",
        "          dists = calc_euclidian_dists(z_query, z_prototypes)                   #[150, 10]\n",
        "          dists_list.append(dists)                     \n",
        "          predictions = tf.nn.softmax(-dists, axis=-1)                                 # prediction probability for the search-space classes per query image(for current pass)\n",
        "          mc_predictions.append(predictions)                                          \n",
        "        y = np.zeros((int(C*N),C))\n",
        "        for i in range(int(C*N)) :\n",
        "            x = support_labels.index(query_labels[i])                           # creation of 1-hot for true labels\n",
        "            y[i][x] = 1. \n",
        "        mc_predictions = tf.convert_to_tensor(np.reshape(np.asarray(mc_predictions),(n_times,int(C*N),C)))  #(n_times,150,10)\n",
        "        std_predictions = tf.math.reduce_std(mc_predictions,axis=0)\n",
        "        std = tf.reduce_sum(tf.reduce_sum(tf.multiply(std_predictions,y),axis=1))\n",
        "        log_p_y = tf.nn.log_softmax(-dists_list[0], axis=-1)                          #[150, 10] \n",
        "        loss = -tf.reduce_mean((tf.reduce_sum(tf.multiply(y, log_p_y), axis=-1)))   #loss for the current pass                        \n",
        "        temp_list.append(std)\n",
        "        # calculating mean accuracy\n",
        "        eq = tf.cast(tf.equal(                                             # accuracy for the current pass\n",
        "            tf.cast(tf.argmax(mc_predictions[0], axis=-1), tf.int32), \n",
        "            tf.cast(tf.argmax(y,axis=-1), tf.int32)), tf.float32)\n",
        "        accuracy = tf.reduce_mean(eq)\n",
        "        return loss, accuracy, mc_predictions[0]   \n",
        "      \n",
        "      if training == False :\n",
        "        loss = 0\n",
        "        mc_predictions = []                                                     # list of predictions for multiple passes  \n",
        "        for i in range(n_times) :                                               # n_times passing the query images for variance calculation\n",
        "          y = np.zeros((int(C*N),C))                                            # (150,10)\n",
        "          for i in range(int(C*N)) :\n",
        "            x = support_labels.index(query_labels[i])                           # creation of 1-hot for the true labels\n",
        "            y[i][x] = 1.  \n",
        "          # merge support and query to forward through encoder\n",
        "          cat = tf.concat([support,query], axis=0)                              # [200,9,9,20,1]   \n",
        "          z = self.encoder(cat)                                                 # [200, 320]\n",
        "          # Divide embedding into support and query\n",
        "          z_prototypes = tf.reshape(z[:n_class * n_support],[n_class, n_support, z.shape[-1]])   #[10, 5, 320])\n",
        "          # Prototypes are means of n_support examples\n",
        "          z_prototypes = tf.math.reduce_mean(z_prototypes, axis=1)              #[10, 320]\n",
        "          z_query = z[n_class * n_support:]                                     #[150, 320]                         \n",
        "          # Calculate distances between query and prototypes\n",
        "          dists = calc_euclidian_dists(z_query, z_prototypes)                   #[150, 10]\n",
        "          # log softmax of calculated distances\n",
        "          log_p_y = tf.nn.log_softmax(-dists, axis=-1)                          #[150, 10]        \n",
        "          loss1 = -tf.reduce_mean((tf.reduce_sum(tf.multiply(y, log_p_y), axis=-1)))        \n",
        "          loss += loss1\n",
        "          predictions = tf.nn.softmax(-dists, axis=-1)                                 # prediction probabilities for the classes for current pass\n",
        "          mc_predictions.append(predictions)                                             \n",
        "        y = np.zeros((int(C*N),C))                                            # (150,10)\n",
        "        for i in range(int(C*N)) :\n",
        "            x = support_labels.index(query_labels[i])                           # creation of 1-hot for the true labels\n",
        "            y[i][x] = 1.  \n",
        "        eq = tf.cast(tf.equal(                                             # accuracy for the current pass\n",
        "            tf.cast(tf.argmax(mc_predictions[0], axis=-1), tf.int32), \n",
        "            tf.cast(tf.argmax(y,axis=-1), tf.int32)), tf.float32)\n",
        "        accuracy = tf.reduce_mean(eq)\n",
        "        pred_index = tf.argmax(mc_predictions[0],axis=1)\n",
        "        # mean class-wise accuracies\n",
        "        correct_class = [[] for i in range(tC)]\n",
        "        correct_pred = [[] for i in range(tC)]\n",
        "        classwise_mean_acc = [[] for i in range(tC)]\n",
        "        for i in range(int(C*N)):\n",
        "          x = support_labels.index(query_labels[i])\n",
        "          correct_class[x].append('4')\n",
        "          if(pred_index[i] == x) :\n",
        "            correct_pred[x].append('4')\n",
        "        for i in range(tC) :\n",
        "           z = len(correct_pred[i])/len(correct_class[i])\n",
        "           classwise_mean_acc[i].append(z)  \n",
        "        #std calculation\n",
        "        std = 0\n",
        "        for i in range(int(C*N)) :\n",
        "           x = support_labels.index(query_labels[i])\n",
        "           p_i = np.array([p[i,:] for p in mc_predictions])\n",
        "           std_i = tf.math.reduce_std(p_i,axis=0) \n",
        "           std_i_true = std_i[x]\n",
        "           std += std_i_true                                                    # adding std of each class\n",
        "        y = np.zeros((int(C*N),C))                                            # (150,10)\n",
        "        for i in range(int(C*N)) :\n",
        "            x = support_labels.index(query_labels[i])                           # creation of 1-hot for the true labels\n",
        "            y[i][x] = 1.                                                                \n",
        "        return loss, mc_predictions[0], accuracy, classwise_mean_acc, y\n",
        "\n",
        "\n",
        "      def save(self, model_path):\n",
        "        self.encoder.save(model_path)\n",
        "\n",
        "      def load(self, model_path):\n",
        "        self.encoder(tf.zeros([1, self.w, self.h, self.c]))\n",
        "        self.encoder.load_weights(model_path)                                                "
      ],
      "execution_count": null,
      "outputs": []
    },
    {
      "cell_type": "markdown",
      "metadata": {
        "id": "dX2P_sAOFevh",
        "colab_type": "text"
      },
      "source": [
        "## Data Loading"
      ]
    },
    {
      "cell_type": "code",
      "metadata": {
        "colab_type": "code",
        "id": "m3ipb9FLtO6c",
        "colab": {}
      },
      "source": [
        "def loadData(name):\n",
        "    if name == 'IP':\n",
        "        data = sio.loadmat('/content/drive/My Drive/Indian_pines_corrected.mat')['indian_pines_corrected']\n",
        "        labels = sio.loadmat('/content/drive/My Drive/Indian_pines_gt.mat')['indian_pines_gt']\n",
        "    if name == 'salinas' :\n",
        "        data = sio.loadmat('/content/drive/My Drive/Hyperspectral Few Shot/Hyperspectral datasets/Salinas_corrected.mat')['salinas_corrected']\n",
        "        labels = sio.loadmat('/content/drive/My Drive/Hyperspectral Few Shot/Hyperspectral datasets/Salinas_gt.mat')['salinas_gt']\n",
        "    if name == 'pavia' :\n",
        "        data = sio.loadmat('/content/drive/My Drive/PaviaU.mat')['paviaU']\n",
        "        labels = sio.loadmat('/content/drive/My Drive/PaviaU_gt.mat')['paviaU_gt']\n",
        "    if name == 'ksc' :\n",
        "        data = sio.loadmat('/content/drive/My Drive/KSC.mat')['KSC']\n",
        "        labels = sio.loadmat('/content/drive/My Drive/KSC_gt.mat')['KSC_gt']\n",
        "    if name == 'botswana' :\n",
        "        data = sio.loadmat('/content/drive/My Drive/Botswana.mat')['Botswana']\n",
        "        labels = sio.loadmat('/content/drive/My Drive/Botswana_gt.mat')['Botswana_gt']\n",
        "\n",
        "    return data, labels\n",
        "# without reduction of 200 channels to 30 channels, memory error while creating cube \n",
        "def applyPCA(X, numComponents):\n",
        "    newX = np.reshape(X, (-1, X.shape[2]))\n",
        "    pca = PCA(n_components=numComponents, whiten=True)\n",
        "    newX = pca.fit_transform(newX)\n",
        "    newX = np.reshape(newX, (X.shape[0],X.shape[1], numComponents))\n",
        "    return newX, pca\n",
        "\n",
        "def padWithZeros(X, margin):\n",
        "    newX = np.zeros((X.shape[0] + 2 * margin, X.shape[1] + 2* margin, X.shape[2]))\n",
        "    x_offset = margin\n",
        "    y_offset = margin\n",
        "    newX[x_offset:X.shape[0] + x_offset, y_offset:X.shape[1] + y_offset, :] = X\n",
        "    return newX\n",
        "\n",
        "def createImageCubes(X, y, windowSize, removeZeroLabels = True):\n",
        "    margin = int((windowSize - 1) / 2)\n",
        "    zeroPaddedX = padWithZeros(X, margin=margin)  # X :(145, 145, 30) --> (195, 195, 30) with window =25\n",
        "    # split patches\n",
        "    patchesData = np.zeros((X.shape[0] * X.shape[1], windowSize, windowSize, X.shape[2]))  # (21025, 25, 25, 30)   \n",
        "    patchesLabels = np.zeros((X.shape[0] * X.shape[1]))  # (21025,)\n",
        "    patchIndex = 0\n",
        "    \n",
        "    for r in range(margin, zeroPaddedX.shape[0] - margin):\n",
        "        for c in range(margin, zeroPaddedX.shape[1] - margin):\n",
        "            patch = zeroPaddedX[r - margin:r + margin + 1, c - margin:c + margin + 1]  \n",
        "            patchesData[patchIndex, :, :, :] = patch\n",
        "            patchesLabels[patchIndex] = y[r-margin, c-margin]            \n",
        "            patchIndex = patchIndex + 1\n",
        "  \n",
        "    patchesData = np.expand_dims(patchesData, axis=-1)\n",
        "    return patchesData,patchesLabels"
      ],
      "execution_count": null,
      "outputs": []
    },
    {
      "cell_type": "code",
      "metadata": {
        "id": "_iyX4iTQUOpT",
        "colab_type": "code",
        "colab": {
          "base_uri": "https://localhost:8080/",
          "height": 34
        },
        "outputId": "13d370e8-2a01-42d2-83f1-21e2917093a8"
      },
      "source": [
        "dataset1 = 'salinas'                                         # 16 classes   \n",
        "sa_x1, sa_y = loadData(dataset1)                              #((512, 217, 204), (512, 217))\n",
        "sa_x2,pca = applyPCA(sa_x1,numComponents=30)                   # ((512, 217, 20), (512, 217))\n",
        "sa_X,sa_Y = createImageCubes(sa_x2, sa_y, windowSize=11)   #(111104, 9, 9, 20, 1) (111104,)\n",
        "print(sa_X.shape,sa_Y.shape)"
      ],
      "execution_count": null,
      "outputs": [
        {
          "output_type": "stream",
          "text": [
            "(111104, 11, 11, 30, 1) (111104,)\n"
          ],
          "name": "stdout"
        }
      ]
    },
    {
      "cell_type": "code",
      "metadata": {
        "id": "Rj34RLFSBtGT",
        "colab_type": "code",
        "colab": {
          "base_uri": "https://localhost:8080/",
          "height": 52
        },
        "outputId": "de1880b2-7ce7-4a63-dbe3-b3d39183f779"
      },
      "source": [
        "print(sa_x1.shape)\n",
        "print(sa_y.shape)"
      ],
      "execution_count": null,
      "outputs": [
        {
          "output_type": "stream",
          "text": [
            "(512, 217, 204)\n",
            "(512, 217)\n"
          ],
          "name": "stdout"
        }
      ]
    },
    {
      "cell_type": "code",
      "metadata": {
        "id": "BMY1DbyVZtV1",
        "colab_type": "code",
        "colab": {}
      },
      "source": [
        "def patches_class(X,Y,n) :\n",
        "  n_classes = n\n",
        "  patches_list = []\n",
        "  for i in range(1,n_classes+1):   # not considering class 0\n",
        "    patchesData_Ith_Label = X[Y==i,:,:,:,:]\n",
        "    patches_list.append(patchesData_Ith_Label)\n",
        "  return patches_list "
      ],
      "execution_count": null,
      "outputs": []
    },
    {
      "cell_type": "code",
      "metadata": {
        "id": "NBjLuxWvxMBG",
        "colab_type": "code",
        "colab": {}
      },
      "source": [
        "patches_class_salinas = patches_class(sa_X,sa_Y,16) # class_wise list of patches #(16,) for class 0: (2009, 9, 9, 20, 1)"
      ],
      "execution_count": null,
      "outputs": []
    },
    {
      "cell_type": "code",
      "metadata": {
        "id": "MgZ3zNQhpsVW",
        "colab_type": "code",
        "colab": {
          "base_uri": "https://localhost:8080/",
          "height": 34
        },
        "outputId": "ef1f6237-8325-442c-b0d8-37d8f1d2c18d"
      },
      "source": [
        "patches_class_salinas[0].shape"
      ],
      "execution_count": null,
      "outputs": [
        {
          "output_type": "execute_result",
          "data": {
            "text/plain": [
              "(2009, 11, 11, 30, 1)"
            ]
          },
          "metadata": {
            "tags": []
          },
          "execution_count": 14
        }
      ]
    },
    {
      "cell_type": "code",
      "metadata": {
        "id": "IbRlaX7-o8Zu",
        "colab_type": "code",
        "colab": {}
      },
      "source": [
        "train_class_indices = [0,1,2,3,4,5,6,7,8,11]\n",
        "test_class_indices = [9,10,12,13,14,15]\n",
        "train_patches_class = [patches_class_salinas[i] for i in train_class_indices]        #(10)\n",
        "test_patches_class = [patches_class_salinas[i] for i in test_class_indices]        #(6) \n",
        "train_class_labels = [1,2,3,4,5,6,7,8,9,12]   \n",
        "test_class_labels = [10,11,13,14,15,16]    #[11...16]"
      ],
      "execution_count": null,
      "outputs": []
    },
    {
      "cell_type": "code",
      "metadata": {
        "id": "2Z40aSVA0dYO",
        "colab_type": "code",
        "colab": {
          "base_uri": "https://localhost:8080/",
          "height": 104
        },
        "outputId": "f129afc1-7abd-477d-b127-3aba1cbbdccc"
      },
      "source": [
        "print(len(train_patches_class))\n",
        "print(train_patches_class[1].shape)\n",
        "print(len(test_patches_class))\n",
        "print(train_class_labels)\n",
        "print(test_class_labels)"
      ],
      "execution_count": null,
      "outputs": [
        {
          "output_type": "stream",
          "text": [
            "10\n",
            "(3726, 11, 11, 30, 1)\n",
            "6\n",
            "[1, 2, 3, 4, 5, 6, 7, 8, 9, 12]\n",
            "[10, 11, 13, 14, 15, 16]\n"
          ],
          "name": "stdout"
        }
      ]
    },
    {
      "cell_type": "markdown",
      "metadata": {
        "id": "sL367A6HF3qf",
        "colab_type": "text"
      },
      "source": [
        "**Prepare Training and validation Dataset**"
      ]
    },
    {
      "cell_type": "code",
      "metadata": {
        "id": "kNBNYdJX3STT",
        "colab_type": "code",
        "colab": {}
      },
      "source": [
        "C = 5  # n_class\n",
        "K1 = 5   # n_support\n",
        "N = 15   # n_query\n",
        "tC = 3   # classes in a test episode\n",
        "im_height,im_width,im_depth = 11,11,30"
      ],
      "execution_count": null,
      "outputs": []
    },
    {
      "cell_type": "code",
      "metadata": {
        "id": "vmBBYOcd7wdm",
        "colab_type": "code",
        "colab": {}
      },
      "source": [
        "def new_episode(patches_list,K,C,N,class_labels) :\n",
        "  selected_classes = np.random.choice(class_labels,C,replace=False)  # Randomly choice 5 Classes out of classes available\n",
        "  tsupport_patches = []\n",
        "  tquery_patches = []\n",
        "  query_labels = []\n",
        "  support_labels = list(selected_classes)\n",
        "  for x in selected_classes :\n",
        "    sran_indices = np.random.choice(len(patches_list[x-1]),K,replace=False)  # for class no X-1: select random sample no\n",
        "    support_patches = patches_list[x-1][sran_indices,:,:,:,:]\n",
        "    qran_indices = np.random.choice(len(patches_list[x-1]),N,replace=False)  # N Samples for Query\n",
        "    query_patches = patches_list[x-1][qran_indices,:,:,:,:]\n",
        "  # Support and Query patches belong to same Class \n",
        "    for i in range(N) :\n",
        "      query_labels.append(x)    # N Samples for Query\n",
        "    tquery_patches.extend(query_patches)\n",
        "    tsupport_patches.extend(support_patches)\n",
        "  temp1 = list(zip(tquery_patches, query_labels)) \n",
        "  random.shuffle(temp1)        # By Doing Shuffling, Support, Query Same class combination got mismatched - mitigated by support index\n",
        "  tquery_patches, query_labels = zip(*temp1)\n",
        "  tquery_patches = tf.convert_to_tensor(np.reshape(np.asarray(tquery_patches),(C*N,im_height,im_width,im_depth,1)),dtype=tf.float32)\n",
        "  tsupport_patches = tf.convert_to_tensor(np.reshape(np.asarray(tsupport_patches),(C*K,im_height,im_width,im_depth,1)),dtype=tf.float32)\n",
        "  return tquery_patches, tsupport_patches, query_labels, support_labels    "
      ],
      "execution_count": null,
      "outputs": []
    },
    {
      "cell_type": "code",
      "metadata": {
        "id": "mZSEL1Zo3KUh",
        "colab_type": "code",
        "colab": {}
      },
      "source": [
        "tquery_patches, tsupport_patches, query_labels, support_labels = new_episode(patches_class_salinas,K1,C,N,train_class_labels)"
      ],
      "execution_count": null,
      "outputs": []
    },
    {
      "cell_type": "code",
      "metadata": {
        "id": "kxyITtCD6tGZ",
        "colab_type": "code",
        "colab": {
          "base_uri": "https://localhost:8080/",
          "height": 141
        },
        "outputId": "eb710a53-1fed-4761-ee5d-f1b9e256ce25"
      },
      "source": [
        "print(tsupport_patches.shape) #C*K\n",
        "print(len(support_labels))# C   \n",
        "print(support_labels)   \n",
        "print(tquery_patches.shape)  #C*N  \n",
        "print(len(query_labels))  # C*N\n",
        "print(query_labels)"
      ],
      "execution_count": null,
      "outputs": [
        {
          "output_type": "stream",
          "text": [
            "(25, 11, 11, 30, 1)\n",
            "5\n",
            "[6, 7, 8, 9, 1]\n",
            "(75, 11, 11, 30, 1)\n",
            "75\n",
            "(7, 7, 7, 9, 7, 6, 7, 8, 7, 8, 8, 8, 1, 6, 6, 7, 9, 6, 6, 9, 9, 8, 8, 6, 9, 8, 1, 1, 7, 8, 8, 9, 7, 1, 9, 1, 7, 7, 6, 8, 6, 1, 9, 9, 1, 7, 6, 7, 9, 6, 9, 8, 8, 8, 6, 8, 6, 1, 1, 1, 1, 6, 7, 7, 9, 9, 1, 1, 6, 8, 1, 9, 9, 1, 6)\n"
          ],
          "name": "stdout"
        }
      ]
    },
    {
      "cell_type": "markdown",
      "metadata": {
        "id": "5SyQYRKpN6t4",
        "colab_type": "text"
      },
      "source": [
        "\n",
        "## Training"
      ]
    },
    {
      "cell_type": "code",
      "metadata": {
        "id": "rtxObYGQN6t4",
        "colab_type": "code",
        "colab": {}
      },
      "source": [
        "ProtoModel = Prototypical(model,im_width, im_height, im_depth, im_channel)\n",
        "optimizer = tf.keras.optimizers.Adam(0.00001)          #Adam(0.001)\n",
        "n_times = 25\n",
        "std_list = []"
      ],
      "execution_count": null,
      "outputs": []
    },
    {
      "cell_type": "code",
      "metadata": {
        "id": "8HvgsXRvN6t6",
        "colab_type": "code",
        "colab": {}
      },
      "source": [
        "# Metrics to gather\n",
        "train_loss = tf.metrics.Mean(name='train_loss')\n",
        "train_acc = tf.metrics.Mean(name='train_accuracy')\n",
        "\n",
        "def train_step(support, query, support_labels, query_labels, K, C, N):\n",
        "    # Forward & update gradients\n",
        "    with tf.GradientTape() as tape:\n",
        "        loss, accuracy, predictions = ProtoModel(support, query, support_labels, query_labels, K, C, N,n_times,training=True)\n",
        "    gradients = tape.gradient(loss, model.trainable_variables)\n",
        "    optimizer.apply_gradients(zip(gradients, model.trainable_variables))\n",
        "\n",
        "    # Log loss and accuracy for step\n",
        "    train_loss(loss)\n",
        "    train_acc(accuracy)"
      ],
      "execution_count": null,
      "outputs": []
    },
    {
      "cell_type": "code",
      "metadata": {
        "id": "J6kykozUCMjn",
        "colab_type": "code",
        "colab": {}
      },
      "source": [
        "checkpoint_dir = '/content/drive/My Drive/Hyperspectral Few Shot/Prototypical_final/Salinas/Training_ckpts/5_shot_ckpts/train_ckpts'\n",
        "checkpoint_prefix = os.path.join(checkpoint_dir, \"ckpt\")\n",
        "checkpoint = tf.train.Checkpoint(optimizer=optimizer,\n",
        "                                 ProtoModel = ProtoModel)"
      ],
      "execution_count": null,
      "outputs": []
    },
    {
      "cell_type": "code",
      "metadata": {
        "id": "N4DqXA2lN6t8",
        "colab_type": "code",
        "colab": {}
      },
      "source": [
        "n_episodes = 100\n",
        "temp_list = []\n",
        "for epoch in range(41): # 80 train + 80 tune + 100 train + 160 tune + 40 train + tuning + 80 train\n",
        "    train_loss.reset_states() #40  \n",
        "    train_acc.reset_states()\n",
        "    \n",
        "    for epi in range(n_episodes): \n",
        "        tquery_patches, tsupport_patches, query_labels, support_labels = new_episode(patches_class_salinas,K1,C,N,train_class_labels)     \n",
        "        train_step(tsupport_patches, tquery_patches,support_labels, query_labels, K1, C, N)    \n",
        "    template = 'Epoch {}, Train Loss: {:.2f}, Train Accuracy: {:.2f}'\n",
        "    print(template.format(epoch+1,train_loss.result(),train_acc.result()*100))\n",
        "    if epoch % 20 == 0 and epoch != 0 :\n",
        "        checkpoint.save(file_prefix = checkpoint_prefix)\n",
        "        std_list.append(temp_list)\n",
        "        std_list = np.asarray(std_list)\n",
        "        np.save('/content/drive/My Drive/Hyperspectral Few Shot/Prototypical_final/Salinas/Training_ckpts/5_shot_ckpts/std_values/'+ str((epoch/20)+11)+'s_std_list.npy',std_list)\n",
        "        std_list = std_list.tolist()\n",
        "        temp_list = []"
      ],
      "execution_count": null,
      "outputs": []
    },
    {
      "cell_type": "code",
      "metadata": {
        "id": "ftfUza9OCn_Z",
        "colab_type": "code",
        "colab": {}
      },
      "source": [
        "checkpoint.restore('/content/drive/My Drive/Hyperspectral Few Shot/Prototypical_final/Training_ckpts/5_shot_ckpts/train_ckpts/ckpt-13')\n",
        "std_list = np.load('/content/drive/My Drive/Hyperspectral Few Shot/Prototypical_final/Training_ckpts/5_shot_ckpts/std_values/13.0s_std_list.npy',allow_pickle=True)\n",
        "std_list = std_list.tolist()"
      ],
      "execution_count": null,
      "outputs": []
    },
    {
      "cell_type": "code",
      "metadata": {
        "id": "nWrFTpD3nVPI",
        "colab_type": "code",
        "colab": {
          "base_uri": "https://localhost:8080/",
          "height": 34
        },
        "outputId": "19e261e0-510b-49b3-d4fe-d96a1ab92d58"
      },
      "source": [
        "print(len(std_list))"
      ],
      "execution_count": null,
      "outputs": [
        {
          "output_type": "stream",
          "text": [
            "13\n"
          ],
          "name": "stdout"
        }
      ]
    },
    {
      "cell_type": "code",
      "metadata": {
        "id": "pRfp2R-42v1S",
        "colab_type": "code",
        "colab": {
          "base_uri": "https://localhost:8080/",
          "height": 34
        },
        "outputId": "d1949e31-fd69-4e0e-dd0c-8083f9c07035"
      },
      "source": [
        "y_list = []\n",
        "for i in range(len(std_list)) :\n",
        "  y_list.extend(std_list[i])\n",
        "print(len(y_list))"
      ],
      "execution_count": null,
      "outputs": [
        {
          "output_type": "stream",
          "text": [
            "26500\n"
          ],
          "name": "stdout"
        }
      ]
    },
    {
      "cell_type": "code",
      "metadata": {
        "id": "ShNhKj74QrRt",
        "colab_type": "code",
        "colab": {}
      },
      "source": [
        "y_list = []\n",
        "y_min = []\n",
        "for i in range(len(std_list)) :\n",
        "  y_list.extend(std_list[i])\n",
        "y_list = [(np.asarray(i)).tolist() for i in y_list]\n",
        "for i in range(int(len(y_list)/100)) :\n",
        "  y_min.extend([statistics.mean(y_list[i*100:(i+1)*100])])\n",
        "x_list = list(np.arange(int(len(y_list)/100)))"
      ],
      "execution_count": null,
      "outputs": []
    },
    {
      "cell_type": "code",
      "metadata": {
        "id": "ykiwxWIMlaVL",
        "colab_type": "code",
        "colab": {
          "base_uri": "https://localhost:8080/",
          "height": 295
        },
        "outputId": "c06cd091-5ddf-449b-800d-99334b07a7e9"
      },
      "source": [
        "plt.plot(x_list, y_min)  \n",
        "plt.xlabel('x - axis') \n",
        "plt.ylabel('y - axis')  \n",
        "plt.title('Std')  \n",
        "plt.show() "
      ],
      "execution_count": null,
      "outputs": [
        {
          "output_type": "display_data",
          "data": {
            "image/png": "[encoded data removed]",
            "text/plain": [
              "<Figure size 432x288 with 1 Axes>"
            ]
          },
          "metadata": {
            "tags": [],
            "needs_background": "light"
          }
        }
      ]
    },
    {
      "cell_type": "markdown",
      "metadata": {
        "id": "a9p9sGw0yAon",
        "colab_type": "text"
      },
      "source": [
        "**Testing**"
      ]
    },
    {
      "cell_type": "code",
      "metadata": {
        "id": "4-3NJYMDTex4",
        "colab_type": "code",
        "colab": {
          "base_uri": "https://localhost:8080/",
          "height": 52
        },
        "outputId": "1094acb1-a316-4bd0-e036-30ce35ea78ce"
      },
      "source": [
        "print(len(test_patches_class))\n",
        "print(test_class_labels)"
      ],
      "execution_count": null,
      "outputs": [
        {
          "output_type": "stream",
          "text": [
            "6\n",
            "[10, 11, 13, 14, 15, 16]\n"
          ],
          "name": "stdout"
        }
      ]
    },
    {
      "cell_type": "code",
      "metadata": {
        "id": "f64ExXqB_J_F",
        "colab_type": "code",
        "colab": {}
      },
      "source": [
        "tune_set_5 = [[] for i in range(6)]\n",
        "for j in range(6) :\n",
        "  tune_set_5[j] = test_patches_class[j][:5,:,:,:,:]   # for each class first 5 samples taken\n",
        "std_tune_5 = []"
      ],
      "execution_count": null,
      "outputs": []
    },
    {
      "cell_type": "code",
      "metadata": {
        "id": "WXOm31sTAKnG",
        "colab_type": "code",
        "colab": {
          "base_uri": "https://localhost:8080/",
          "height": 52
        },
        "outputId": "4489856a-744b-4451-d2b9-0ad94dc5e937"
      },
      "source": [
        "print(len(tune_set_5))\n",
        "print(tune_set_5[0].shape)"
      ],
      "execution_count": null,
      "outputs": [
        {
          "output_type": "stream",
          "text": [
            "6\n",
            "(5, 11, 11, 30, 1)\n"
          ],
          "name": "stdout"
        }
      ]
    },
    {
      "cell_type": "code",
      "metadata": {
        "id": "sQHAAuML_BF8",
        "colab_type": "code",
        "colab": {}
      },
      "source": [
        "def tune_episode(tune_set,tC,tK,tN,test_class_labels) :\n",
        "  selected_classes = np.random.choice(test_class_labels,tC,replace=False)\n",
        "  support_labels  = list(selected_classes)\n",
        "  query_labels = []\n",
        "  support_patches = []\n",
        "  query_patches = []\n",
        "  for x in selected_classes :\n",
        "    y = test_class_labels.index(x)\n",
        "    np.random.shuffle(tune_set[y])    \n",
        "    support_imgs = tune_set[y][:tK,:,:,:,:]    #Support 1, Query 4\n",
        "    query_imgs = tune_set[y][tK:5,:,:,:,:]\n",
        "    support_patches.extend(support_imgs)\n",
        "    query_patches.extend(query_imgs)\n",
        "    for i in range(tN) :\n",
        "      query_labels.append(x)\n",
        "  temp1 = list(zip(query_patches, query_labels)) \n",
        "  random.shuffle(temp1) \n",
        "  query_patches, query_labels = zip(*temp1)\n",
        "  query_patches = tf.convert_to_tensor(np.reshape(np.asarray(query_patches),(tC*tN,im_height,im_width,im_depth,1)),dtype=tf.float32)\n",
        "  support_patches = tf.convert_to_tensor(np.reshape(np.asarray(support_patches),(tC*tK,im_height,im_width,im_depth,1)),dtype=tf.float32)\n",
        "  return query_patches, support_patches, query_labels, support_labels  "
      ],
      "execution_count": null,
      "outputs": []
    },
    {
      "cell_type": "code",
      "metadata": {
        "id": "78mUqPSj3DA6",
        "colab_type": "code",
        "colab": {}
      },
      "source": [
        "query_patches, support_patches, query_labels, support_labels = tune_episode(tune_set_5,4,1,4,test_class_labels)"
      ],
      "execution_count": null,
      "outputs": []
    },
    {
      "cell_type": "code",
      "metadata": {
        "id": "M1WF75kz3ETq",
        "colab_type": "code",
        "colab": {
          "base_uri": "https://localhost:8080/",
          "height": 34
        },
        "outputId": "2b9f02ed-75bc-401f-b031-e09edfc2b05a"
      },
      "source": [
        "print(support_patches.shape,query_patches.shape,support_labels,query_labels)"
      ],
      "execution_count": null,
      "outputs": [
        {
          "output_type": "stream",
          "text": [
            "(4, 11, 11, 30, 1) (16, 11, 11, 30, 1) [16, 15, 14, 11] (15, 14, 14, 16, 15, 16, 11, 11, 15, 16, 14, 11, 16, 14, 11, 15)\n"
          ],
          "name": "stdout"
        }
      ]
    },
    {
      "cell_type": "code",
      "metadata": {
        "id": "KznikxjCElAR",
        "colab_type": "code",
        "colab": {}
      },
      "source": [
        "# Metrics to gather\n",
        "tune_loss = tf.metrics.Mean(name='tune_loss')\n",
        "tune_acc = tf.metrics.Mean(name='tune_accuracy')\n",
        "\n",
        "def tune_step(support, query, support_labels, query_labels, tK, tC, tN):\n",
        "    # Forward & update gradients\n",
        "    with tf.GradientTape() as tape:\n",
        "        loss, accuracy, predictions = ProtoModel(support, query, support_labels, query_labels, tK, tC, tN,n_times,training=True)\n",
        "    gradients = tape.gradient(loss, model.trainable_variables)\n",
        "    optimizer.apply_gradients(zip(gradients, model.trainable_variables))\n",
        "\n",
        "    # Log loss and accuracy for step\n",
        "    tune_loss(loss)\n",
        "    tune_acc(accuracy)"
      ],
      "execution_count": null,
      "outputs": []
    },
    {
      "cell_type": "code",
      "metadata": {
        "id": "dlIrGMXBKN8Y",
        "colab_type": "code",
        "colab": {}
      },
      "source": [
        "checkpoint_dir1 = '/content/drive/My Drive/Hyperspectral Few Shot/Prototypical_final/Salinas/Tuning_ckpts/5_shot_tune_ckpts/Proto_tune_5_shot_salinas_25_128'\n",
        "checkpoint_prefix1 = os.path.join(checkpoint_dir1, \"ckpt\")\n",
        "checkpoint = tf.train.Checkpoint(optimizer=optimizer,\n",
        "                                 ProtoModel = ProtoModel)"
      ],
      "execution_count": null,
      "outputs": []
    },
    {
      "cell_type": "code",
      "metadata": {
        "id": "abc2CqQdBRFB",
        "colab_type": "code",
        "colab": {}
      },
      "source": [
        "n_episodes = 100\n",
        "temp_list = []\n",
        "\n",
        "for epoch in range(41):  #80 tune + 160 tune + 120 + 40\n",
        "    tune_loss.reset_states()  \n",
        "    tune_acc.reset_states()    \n",
        "    for epi in range(n_episodes+1): \n",
        "        tquery_patches, tsupport_patches, query_labels, support_labels = tune_episode(tune_set_5,3,1,4,test_class_labels)    \n",
        "        tune_step(tsupport_patches, tquery_patches,support_labels, query_labels, 1, 3, 4)              \n",
        "    template = 'Epoch {}, Tune Loss: {:.2f}, Tune Accuracy: {:.2f}'\n",
        "    print(template.format(epoch+1,tune_loss.result(),tune_acc.result()*100))\n",
        "    if (epoch+1)%10 == 0 :\n",
        "      checkpoint.save(file_prefix = checkpoint_prefix1)\n",
        "      std_tune_5.append(temp_list)\n",
        "      std_tune_5 = np.asarray(std_tune_5)\n",
        "      np.save('/content/drive/My Drive/Hyperspectral Few Shot/Prototypical_final/Salinas/Tuning_ckpts/std_values'+ str((epoch/20)+4)+'s_std_tune_5.npy',std_tune_5)\n",
        "      std_tune_5 = std_tune_5.tolist()\n",
        "      temp_list = []   \n",
        "    if (epoch+1)%10 == 0 :\n",
        "      test_loss.reset_states()  \n",
        "      test_acc.reset_states()        \n",
        "      tquery_patches1, tsupport_patches1, query_labels1, support_labels1, x1 = test_episode(test_patches_class,test_class_labels,3,5,0,3)    \n",
        "      loss1, mc_predictions1, mean_accuracy1, classwise_mean_acc1, y1 = test_step(tsupport_patches1, tquery_patches1,support_labels1, query_labels1, 5, 3, x1/3)    \n",
        "# Class-wise Accuracy\n",
        "      for i in range(tC) :\n",
        "        print('class',i+1,classwise_mean_acc1[i])\n",
        "      #print('loss',loss1)\n",
        "      tquery_patches2, tsupport_patches2, query_labels2, support_labels2, x2 = test_episode(test_patches_class,test_class_labels,3,5,3,6)    \n",
        "      loss2, mc_predictions2, mean_accuracy2, classwise_mean_acc2, y2 = test_step(tsupport_patches2, tquery_patches2,support_labels2, query_labels2, 5, 3, x2/3) \n",
        "# Class-wise Accuracy\n",
        "      for i in range(tC) :\n",
        "        print('class',i+4,classwise_mean_acc2[i])\n",
        "      #print('loss',loss2)\n",
        "      mean_predictions1 =  mc_predictions1\n",
        "      mean_predictions2 =  mc_predictions2\n",
        "      overall_predictions = tf.concat([mean_predictions1,mean_predictions2],axis=0)\n",
        "      overall_true_labels = tf.concat([y1,y2],axis=0)\n",
        "      correct_pred = tf.cast(tf.equal(                                             # accuracy for the current pass\n",
        "            tf.cast(tf.argmax(overall_predictions, axis=-1), tf.int32), \n",
        "            tf.cast(tf.argmax(overall_true_labels,axis=-1), tf.int32)), tf.float32)\n",
        "      o_acc = tf.reduce_mean(correct_pred) \n",
        "      print(\"Overall accuracy:\",o_acc)\n",
        "      accuracies.append(o_acc)\n",
        "      accuracies = np.asarray(accuracies)\n",
        "      np.save('/content/drive/My Drive/Hyperspectral Few Shot/Prototypical_final/Salinas/accuracies/'+ str((epoch/20))+'s_acc.npy',accuracies)\n",
        "      accuracies = accuracies.tolist()"
      ],
      "execution_count": null,
      "outputs": []
    },
    {
      "cell_type": "code",
      "metadata": {
        "id": "ef9zIM8Ex3Ro",
        "colab_type": "code",
        "colab": {}
      },
      "source": [
        "std_tune_5 = np.load('/content/drive/My Drive/Hyperspectral Few Shot/Prototypical_final/Salinas/Tuning_ckpts/std_values5.95s_std_tune_5.npy',allow_pickle=True)\n",
        "std_tune_5 = std_tune_5.tolist()"
      ],
      "execution_count": null,
      "outputs": []
    },
    {
      "cell_type": "code",
      "metadata": {
        "id": "0nWvXEHXv6dV",
        "colab_type": "code",
        "colab": {}
      },
      "source": [
        "checkpoint.restore('/content/drive/My Drive/Hyperspectral Few Shot/Prototypical_final/Salinas/Tuning_ckpts/5_shot_tune_ckpts/Proto_tune_5_shot_salinas_25_128/ckpt-75')"
      ],
      "execution_count": null,
      "outputs": []
    },
    {
      "cell_type": "code",
      "metadata": {
        "id": "EOik745d_kwu",
        "colab_type": "code",
        "colab": {}
      },
      "source": [
        "print(len(std_tune_5))"
      ],
      "execution_count": null,
      "outputs": []
    },
    {
      "cell_type": "code",
      "metadata": {
        "colab_type": "code",
        "id": "Xv9uqT0he8Wy",
        "colab": {}
      },
      "source": [
        "t_list = []\n",
        "for i in range(len(std_tune_5)) :\n",
        "  t_list.extend(std_tune_5[i])\n",
        "print(len(t_list))"
      ],
      "execution_count": null,
      "outputs": []
    },
    {
      "cell_type": "code",
      "metadata": {
        "colab_type": "code",
        "id": "UxErhOMKe8XT",
        "colab": {}
      },
      "source": [
        "t_list = []\n",
        "t_min = []\n",
        "for i in range(len(std_tune_5)) :\n",
        "  t_list.extend(std_tune_5[i])\n",
        "t_list = [(np.asarray(i)).tolist() for i in t_list]\n",
        "for i in range(int(len(t_list)/100)) :\n",
        "  t_min.extend([statistics.mean(t_list[i*100:(i+1)*100])])\n",
        "tx_list = list(np.arange(int(len(t_list)/100)))"
      ],
      "execution_count": null,
      "outputs": []
    },
    {
      "cell_type": "code",
      "metadata": {
        "colab_type": "code",
        "id": "veFp_mARe8Xt",
        "colab": {
          "base_uri": "https://localhost:8080/",
          "height": 295
        },
        "outputId": "d46b51b9-6016-45d9-df73-5f52f0a685e1"
      },
      "source": [
        "plt.plot(tx_list, t_min)  \n",
        "plt.xlabel('x - axis') \n",
        "plt.ylabel('y - axis')  \n",
        "plt.title('Std')  \n",
        "plt.show() "
      ],
      "execution_count": null,
      "outputs": [
        {
          "output_type": "display_data",
          "data": {
            "image/png": "[encoded data removed]",
            "text/plain": [
              "<Figure size 432x288 with 1 Axes>"
            ]
          },
          "metadata": {
            "tags": [],
            "needs_background": "light"
          }
        }
      ]
    },
    {
      "cell_type": "code",
      "metadata": {
        "id": "kPjwIpM_tPz0",
        "colab_type": "code",
        "colab": {}
      },
      "source": [
        "def test_episode(test_patches_class,test_class_labels,test_C,test_K,i,f) :\n",
        "  selected_classes = test_class_labels[i:f]   # [1, 2, 3, 4, 5, 6, 7, 8]\n",
        "  support_labels = list(selected_classes)\n",
        "  query_labels = []\n",
        "  support_patches = []\n",
        "  query_patches = []\n",
        "  for x in selected_classes :\n",
        "    y = test_class_labels.index(x)\n",
        "    support_imgs = test_patches_class[y][:test_K,:,:,:,:]\n",
        "    query_imgs = test_patches_class[y][test_K:,:,:,:,:]\n",
        "    support_patches.extend(support_imgs)\n",
        "    query_patches.extend(query_imgs)\n",
        "    for i in range(query_imgs.shape[0]) :\n",
        "      query_labels.append(x)\n",
        "  temp1 = list(zip(query_patches, query_labels)) \n",
        "  random.shuffle(temp1) \n",
        "  query_patches, query_labels = zip(*temp1)\n",
        "  x = len(query_labels)\n",
        "  query_patches = tf.convert_to_tensor(np.reshape(np.asarray(query_patches),(x,im_height,im_width,im_depth,1)),dtype=tf.float32)\n",
        "  support_patches = tf.convert_to_tensor(np.reshape(np.asarray(support_patches),(test_C*test_K,im_height,im_width,im_depth,1)),dtype=tf.float32)\n",
        "  return query_patches, support_patches, query_labels, support_labels,x    "
      ],
      "execution_count": null,
      "outputs": []
    },
    {
      "cell_type": "code",
      "metadata": {
        "id": "wO2QtQRf3ZpL",
        "colab_type": "code",
        "colab": {}
      },
      "source": [
        "query_patches, support_patches, query_labels, support_labels,x = test_episode(test_patches_class,test_class_labels,3,5,0,3)"
      ],
      "execution_count": null,
      "outputs": []
    },
    {
      "cell_type": "code",
      "metadata": {
        "id": "EXnty60q3xxi",
        "colab_type": "code",
        "colab": {
          "base_uri": "https://localhost:8080/",
          "height": 106
        },
        "outputId": "cdf2544b-80da-455c-efb1-d9a9bcd1e50c"
      },
      "source": [
        "print(query_patches.shape,support_patches.shape)\n",
        "print(query_labels)\n",
        "print(support_labels)\n",
        "print(x)"
      ],
      "execution_count": null,
      "outputs": [
        {
          "output_type": "stream",
          "text": [
            "(5247, 11, 11, 30, 1) (15, 11, 11, 30, 1)\n",
            "(13, 11, 10, 11, 10, 11, 10, 10, 13, 10, 11, 10, 10, 10, 10, 10, 11, 10, 10, 10, 10, 11, 10, 10, 11, 13, 11, 10, 10, 11, 13, 11, 10, 10, 11, 10, 13, 13, 11, 10, 10, 13, 11, 10, 10, 10, 10, 10, 13, 10, 10, 11, 11, 10, 10, 10, 13, 10, 11, 10, 10, 10, 10, 10, 10, 11, 10, 13, 10, 10, 10, 10, 10, 10, 10, 10, 10, 10, 10, 10, 10, 10, 10, 13, 10, 10, 10, 10, 13, 10, 13, 13, 10, 10, 13, 11, 13, 10, 10, 10, 10, 13, 11, 11, 10, 10, 13, 10, 10, 13, 11, 10, 10, 11, 10, 10, 11, 11, 11, 10, 10, 10, 10, 10, 10, 10, 11, 11, 13, 13, 13, 10, 10, 10, 10, 10, 11, 10, 10, 10, 13, 10, 10, 13, 10, 10, 10, 11, 11, 10, 10, 10, 10, 10, 10, 11, 13, 10, 10, 10, 10, 11, 10, 13, 13, 10, 11, 11, 10, 11, 10, 10, 10, 11, 13, 10, 11, 10, 10, 11, 11, 13, 10, 10, 10, 11, 13, 10, 11, 11, 13, 13, 13, 10, 11, 10, 10, 10, 10, 11, 10, 10, 10, 10, 10, 13, 10, 13, 10, 13, 11, 10, 10, 13, 10, 10, 10, 10, 13, 10, 10, 11, 13, 11, 10, 10, 11, 13, 10, 10, 11, 11, 10, 10, 10, 10, 10, 13, 10, 10, 11, 11, 11, 11, 11, 10, 11, 10, 10, 10, 10, 10, 10, 10, 10, 10, 11, 10, 13, 11, 13, 10, 10, 10, 11, 10, 10, 10, 10, 10, 13, 10, 10, 10, 11, 10, 10, 11, 10, 10, 10, 10, 11, 13, 10, 10, 10, 10, 11, 10, 13, 10, 11, 10, 10, 10, 10, 13, 11, 13, 13, 13, 11, 10, 11, 10, 10, 10, 10, 10, 10, 10, 11, 10, 11, 13, 13, 10, 10, 10, 10, 10, 10, 10, 13, 10, 10, 10, 10, 13, 10, 13, 10, 10, 10, 10, 13, 10, 11, 10, 10, 13, 11, 13, 13, 11, 10, 11, 11, 10, 13, 10, 10, 10, 10, 11, 10, 10, 10, 11, 13, 10, 10, 10, 11, 11, 10, 10, 10, 10, 10, 10, 10, 10, 11, 10, 11, 10, 11, 13, 10, 10, 10, 13, 10, 10, 11, 10, 10, 13, 10, 11, 11, 10, 10, 13, 10, 13, 10, 10, 11, 11, 10, 11, 10, 10, 13, 13, 11, 11, 13, 10, 11, 10, 10, 10, 13, 10, 10, 10, 10, 13, 10, 11, 10, 11, 11, 10, 11, 10, 10, 10, 11, 13, 11, 10, 13, 10, 10, 10, 10, 10, 10, 13, 11, 10, 13, 10, 10, 10, 11, 10, 10, 13, 10, 10, 10, 10, 10, 10, 10, 13, 10, 10, 13, 10, 10, 11, 10, 10, 10, 13, 10, 10, 11, 10, 10, 10, 10, 11, 10, 13, 11, 10, 10, 10, 10, 10, 13, 10, 11, 10, 13, 11, 10, 10, 10, 13, 10, 10, 11, 10, 10, 13, 10, 10, 10, 10, 11, 10, 10, 10, 11, 10, 13, 10, 10, 11, 13, 10, 11, 10, 10, 13, 10, 13, 10, 13, 13, 10, 11, 10, 10, 10, 10, 11, 11, 13, 10, 10, 10, 10, 10, 13, 10, 10, 11, 10, 10, 10, 10, 10, 10, 11, 11, 11, 10, 10, 10, 11, 10, 10, 13, 13, 11, 10, 10, 10, 10, 10, 11, 10, 11, 10, 10, 10, 10, 11, 10, 10, 10, 10, 11, 10, 10, 11, 10, 13, 10, 10, 10, 10, 10, 10, 10, 13, 10, 13, 10, 10, 10, 10, 11, 10, 10, 11, 11, 10, 10, 10, 10, 10, 13, 10, 13, 10, 10, 10, 11, 13, 11, 13, 11, 10, 11, 13, 10, 10, 10, 10, 10, 13, 10, 10, 10, 10, 10, 10, 10, 10, 13, 11, 10, 10, 10, 13, 10, 10, 13, 10, 11, 13, 10, 10, 10, 11, 13, 10, 10, 13, 10, 13, 13, 10, 10, 10, 10, 10, 13, 11, 10, 11, 10, 10, 13, 10, 13, 10, 11, 10, 10, 11, 10, 10, 11, 10, 10, 10, 10, 13, 10, 10, 10, 10, 10, 10, 10, 10, 11, 10, 11, 13, 10, 13, 13, 10, 13, 10, 10, 13, 10, 10, 11, 13, 10, 10, 10, 10, 10, 13, 10, 10, 13, 11, 13, 11, 10, 10, 10, 11, 13, 13, 13, 10, 10, 10, 10, 10, 10, 13, 10, 10, 11, 11, 10, 11, 10, 10, 10, 10, 11, 13, 10, 13, 10, 10, 11, 13, 10, 10, 11, 13, 10, 10, 10, 10, 13, 11, 10, 10, 10, 11, 11, 13, 11, 10, 10, 13, 11, 10, 13, 11, 11, 10, 13, 10, 10, 10, 10, 10, 13, 10, 11, 10, 13, 11, 10, 10, 11, 10, 10, 10, 10, 10, 10, 13, 10, 10, 10, 10, 10, 10, 11, 11, 10, 10, 10, 10, 10, 11, 11, 11, 11, 13, 10, 10, 10, 11, 11, 10, 10, 10, 13, 10, 13, 13, 13, 10, 10, 10, 13, 13, 10, 11, 10, 13, 10, 11, 10, 10, 10, 11, 10, 10, 11, 10, 10, 10, 10, 10, 11, 10, 11, 10, 10, 13, 10, 10, 10, 10, 10, 13, 10, 10, 10, 13, 10, 11, 10, 10, 10, 10, 10, 11, 13, 10, 10, 11, 10, 10, 10, 11, 11, 13, 10, 11, 11, 10, 11, 11, 10, 10, 10, 10, 10, 13, 10, 11, 13, 10, 11, 10, 10, 13, 11, 11, 10, 11, 10, 13, 13, 10, 10, 13, 10, 10, 10, 10, 10, 10, 11, 11, 10, 10, 11, 11, 10, 10, 10, 10, 10, 10, 10, 10, 10, 13, 13, 10, 10, 10, 10, 10, 10, 10, 10, 11, 10, 11, 10, 10, 10, 11, 10, 10, 13, 10, 11, 11, 13, 10, 11, 13, 10, 11, 10, 13, 10, 11, 10, 10, 13, 10, 13, 13, 13, 13, 10, 10, 11, 10, 10, 11, 10, 10, 10, 13, 10, 10, 13, 10, 10, 10, 13, 10, 10, 10, 11, 10, 11, 10, 10, 10, 13, 10, 10, 11, 11, 10, 10, 10, 10, 10, 10, 13, 10, 13, 11, 13, 10, 10, 10, 13, 10, 11, 10, 10, 11, 10, 11, 10, 10, 10, 10, 10, 11, 10, 13, 10, 13, 11, 10, 11, 13, 13, 13, 10, 10, 10, 10, 10, 10, 10, 13, 11, 10, 11, 11, 10, 13, 10, 10, 10, 11, 10, 10, 10, 11, 10, 10, 10, 10, 10, 10, 10, 10, 11, 10, 10, 13, 11, 11, 10, 13, 10, 10, 10, 10, 10, 13, 10, 10, 10, 13, 13, 10, 10, 10, 10, 10, 10, 10, 11, 10, 10, 11, 11, 10, 11, 10, 11, 10, 10, 11, 13, 10, 10, 11, 13, 11, 13, 10, 10, 13, 10, 13, 13, 10, 10, 10, 10, 10, 13, 10, 13, 13, 10, 10, 11, 10, 10, 10, 11, 10, 10, 13, 13, 10, 10, 10, 10, 11, 10, 10, 10, 10, 13, 10, 10, 10, 10, 10, 11, 10, 10, 10, 10, 10, 11, 10, 10, 11, 11, 10, 10, 10, 13, 10, 10, 10, 11, 13, 10, 10, 10, 10, 10, 10, 10, 10, 10, 11, 10, 10, 11, 11, 10, 10, 10, 10, 11, 10, 11, 10, 13, 13, 10, 10, 10, 11, 10, 10, 10, 10, 10, 10, 13, 10, 10, 10, 10, 10, 10, 10, 10, 11, 13, 10, 10, 11, 11, 10, 10, 11, 10, 10, 10, 10, 10, 13, 10, 13, 10, 10, 10, 10, 10, 10, 10, 10, 10, 10, 11, 10, 10, 10, 13, 10, 10, 11, 13, 13, 10, 10, 11, 10, 10, 10, 10, 11, 11, 10, 10, 10, 10, 10, 11, 11, 10, 10, 13, 10, 11, 10, 10, 10, 10, 13, 10, 13, 10, 11, 10, 10, 11, 11, 13, 10, 13, 10, 10, 10, 10, 10, 13, 10, 10, 10, 10, 10, 10, 13, 13, 10, 13, 10, 11, 10, 10, 10, 11, 13, 10, 13, 10, 10, 10, 10, 10, 13, 13, 13, 10, 10, 11, 11, 10, 10, 11, 10, 13, 10, 10, 10, 13, 11, 10, 10, 13, 10, 10, 10, 10, 11, 10, 13, 10, 10, 10, 13, 13, 13, 10, 10, 13, 10, 10, 11, 10, 11, 10, 11, 11, 10, 10, 10, 10, 13, 11, 13, 10, 13, 13, 10, 11, 13, 10, 10, 10, 10, 13, 10, 13, 11, 11, 10, 11, 11, 11, 10, 11, 13, 10, 10, 10, 10, 13, 11, 10, 10, 10, 10, 10, 11, 10, 13, 10, 10, 10, 10, 11, 11, 10, 10, 10, 11, 11, 13, 10, 11, 10, 13, 10, 10, 11, 10, 10, 10, 10, 10, 10, 13, 10, 10, 11, 11, 11, 13, 10, 13, 13, 10, 11, 10, 10, 10, 10, 10, 10, 11, 10, 11, 10, 11, 10, 11, 10, 10, 10, 10, 10, 13, 10, 10, 11, 10, 10, 13, 11, 10, 10, 13, 10, 11, 11, 10, 13, 13, 10, 10, 10, 13, 13, 11, 10, 11, 10, 11, 10, 11, 10, 10, 11, 10, 10, 10, 10, 10, 10, 11, 10, 13, 10, 10, 10, 10, 10, 13, 13, 10, 10, 11, 10, 10, 10, 10, 13, 11, 10, 11, 10, 13, 10, 10, 13, 10, 10, 10, 13, 10, 10, 10, 10, 10, 10, 10, 10, 10, 10, 10, 13, 10, 10, 10, 10, 10, 10, 13, 11, 11, 10, 10, 13, 11, 10, 10, 10, 11, 10, 10, 10, 10, 10, 11, 13, 11, 10, 10, 10, 13, 13, 10, 10, 11, 11, 10, 10, 11, 10, 10, 10, 10, 10, 13, 11, 10, 10, 13, 10, 10, 10, 10, 10, 13, 10, 10, 11, 11, 11, 10, 10, 10, 10, 10, 11, 13, 10, 10, 10, 10, 10, 10, 11, 10, 10, 10, 10, 10, 10, 11, 10, 11, 13, 10, 13, 10, 10, 10, 10, 10, 11, 10, 13, 13, 11, 10, 10, 13, 13, 10, 11, 10, 10, 13, 10, 10, 10, 10, 11, 10, 10, 13, 10, 10, 11, 13, 10, 10, 11, 13, 10, 13, 10, 10, 11, 11, 13, 10, 10, 10, 10, 10, 13, 13, 10, 10, 10, 10, 13, 11, 13, 10, 10, 10, 10, 10, 10, 10, 10, 13, 10, 11, 10, 10, 10, 10, 10, 10, 11, 11, 10, 10, 13, 13, 10, 10, 10, 10, 10, 11, 11, 11, 10, 10, 10, 10, 11, 10, 13, 13, 13, 10, 10, 10, 10, 10, 13, 11, 10, 10, 10, 13, 10, 10, 10, 11, 10, 11, 10, 10, 10, 11, 10, 10, 10, 10, 10, 10, 10, 13, 10, 10, 10, 10, 10, 13, 13, 10, 10, 10, 10, 13, 10, 13, 10, 10, 13, 11, 11, 11, 11, 13, 10, 10, 10, 11, 10, 10, 10, 10, 11, 10, 10, 11, 11, 13, 10, 13, 13, 13, 10, 13, 10, 10, 13, 10, 10, 11, 13, 13, 11, 10, 10, 10, 10, 10, 10, 10, 13, 10, 10, 11, 10, 10, 11, 10, 10, 10, 10, 11, 13, 11, 10, 10, 10, 10, 10, 13, 11, 10, 10, 10, 13, 10, 11, 10, 10, 11, 10, 10, 13, 10, 11, 13, 10, 10, 13, 10, 13, 13, 10, 10, 10, 10, 10, 10, 10, 10, 10, 13, 10, 10, 10, 10, 13, 10, 10, 10, 10, 11, 11, 10, 13, 10, 10, 10, 10, 13, 10, 10, 13, 10, 10, 10, 11, 10, 11, 10, 11, 11, 10, 10, 10, 10, 11, 13, 11, 10, 10, 10, 10, 13, 10, 13, 10, 10, 10, 13, 10, 10, 11, 10, 13, 11, 11, 10, 11, 10, 10, 10, 13, 10, 10, 10, 10, 10, 10, 10, 10, 11, 10, 10, 10, 13, 11, 10, 10, 13, 10, 13, 13, 11, 11, 10, 10, 13, 11, 11, 10, 10, 13, 11, 11, 10, 10, 11, 10, 10, 10, 13, 13, 11, 11, 13, 10, 13, 10, 11, 10, 10, 10, 10, 10, 13, 10, 10, 11, 10, 10, 11, 10, 10, 10, 10, 10, 13, 11, 13, 10, 11, 10, 10, 11, 10, 10, 13, 10, 11, 13, 13, 10, 10, 10, 10, 10, 10, 10, 11, 10, 10, 10, 10, 11, 11, 13, 11, 10, 11, 10, 13, 10, 10, 13, 11, 10, 10, 11, 11, 10, 11, 10, 13, 11, 10, 11, 10, 11, 10, 10, 10, 11, 10, 11, 13, 11, 13, 10, 11, 11, 11, 10, 10, 10, 10, 11, 10, 10, 10, 10, 10, 11, 10, 10, 10, 10, 13, 10, 10, 11, 11, 10, 10, 10, 13, 11, 10, 10, 10, 10, 13, 10, 10, 10, 10, 13, 13, 10, 10, 11, 10, 10, 10, 13, 10, 13, 10, 10, 13, 10, 10, 10, 11, 11, 10, 10, 10, 10, 10, 10, 11, 13, 11, 10, 10, 10, 10, 11, 10, 13, 10, 10, 10, 10, 13, 13, 13, 13, 10, 10, 10, 10, 13, 10, 10, 10, 11, 13, 10, 10, 10, 10, 10, 11, 13, 10, 13, 10, 10, 10, 10, 10, 10, 10, 10, 10, 13, 11, 11, 11, 10, 10, 10, 10, 10, 13, 10, 10, 11, 13, 11, 10, 11, 10, 13, 10, 10, 13, 10, 13, 10, 10, 11, 13, 10, 10, 10, 10, 13, 11, 10, 13, 10, 10, 10, 11, 11, 10, 10, 10, 10, 10, 11, 10, 11, 13, 11, 10, 10, 13, 10, 10, 11, 10, 11, 10, 11, 10, 10, 13, 10, 11, 13, 10, 10, 11, 13, 10, 10, 10, 10, 10, 13, 10, 13, 11, 10, 10, 11, 10, 10, 10, 10, 11, 11, 10, 10, 10, 13, 10, 11, 10, 13, 10, 10, 11, 13, 10, 13, 10, 11, 10, 10, 10, 10, 10, 10, 10, 10, 10, 10, 10, 11, 10, 10, 11, 10, 10, 11, 11, 11, 10, 10, 13, 10, 10, 10, 10, 10, 11, 10, 10, 10, 10, 10, 10, 10, 10, 13, 11, 10, 10, 10, 13, 11, 10, 10, 10, 13, 13, 10, 10, 13, 10, 11, 10, 10, 10, 10, 11, 13, 10, 10, 10, 10, 11, 13, 10, 11, 10, 10, 13, 10, 10, 10, 10, 10, 10, 10, 10, 11, 11, 10, 13, 10, 13, 10, 10, 10, 10, 11, 10, 11, 10, 11, 11, 10, 10, 10, 10, 10, 13, 10, 10, 10, 10, 10, 10, 10, 10, 11, 10, 10, 13, 10, 11, 10, 10, 10, 10, 10, 10, 10, 10, 13, 10, 10, 10, 10, 10, 10, 10, 10, 10, 10, 10, 11, 10, 10, 13, 10, 10, 13, 10, 11, 13, 13, 13, 10, 10, 10, 10, 11, 10, 11, 10, 10, 10, 10, 13, 10, 13, 11, 13, 13, 10, 13, 11, 10, 11, 10, 11, 10, 11, 10, 11, 11, 13, 13, 10, 10, 13, 10, 13, 10, 10, 10, 10, 13, 10, 10, 10, 10, 10, 11, 10, 10, 13, 11, 10, 13, 10, 13, 10, 10, 10, 11, 10, 13, 10, 10, 10, 10, 10, 10, 10, 11, 10, 11, 13, 11, 10, 10, 10, 10, 11, 10, 10, 13, 13, 13, 10, 11, 10, 10, 13, 11, 10, 10, 11, 10, 10, 10, 10, 10, 10, 10, 10, 10, 13, 10, 13, 11, 10, 11, 10, 10, 11, 10, 10, 10, 13, 10, 11, 10, 10, 10, 10, 11, 10, 10, 11, 10, 10, 10, 13, 11, 10, 10, 10, 10, 10, 13, 10, 11, 11, 10, 10, 10, 10, 11, 10, 11, 10, 10, 13, 10, 10, 10, 10, 10, 10, 10, 10, 11, 10, 10, 13, 10, 10, 13, 10, 10, 10, 10, 11, 10, 10, 10, 11, 11, 10, 10, 10, 13, 10, 11, 13, 10, 10, 10, 13, 10, 10, 13, 11, 10, 10, 10, 11, 10, 10, 11, 11, 10, 10, 10, 10, 13, 13, 11, 10, 10, 10, 13, 10, 10, 10, 10, 10, 10, 10, 10, 10, 10, 11, 10, 13, 10, 10, 10, 10, 10, 10, 13, 13, 11, 10, 10, 10, 13, 10, 10, 10, 11, 11, 10, 11, 10, 11, 11, 10, 10, 11, 10, 11, 10, 10, 13, 11, 10, 10, 10, 10, 11, 10, 10, 10, 13, 13, 10, 10, 11, 10, 11, 10, 11, 10, 10, 11, 11, 10, 10, 11, 10, 13, 11, 10, 10, 10, 10, 10, 11, 11, 11, 10, 10, 13, 10, 10, 11, 10, 13, 13, 10, 10, 10, 10, 10, 10, 13, 10, 10, 10, 13, 10, 10, 10, 13, 11, 10, 10, 10, 11, 10, 11, 10, 13, 10, 10, 13, 11, 10, 10, 11, 10, 11, 11, 13, 10, 10, 10, 11, 10, 10, 10, 11, 13, 10, 13, 10, 10, 10, 11, 10, 11, 13, 11, 13, 10, 10, 10, 10, 10, 10, 10, 10, 11, 10, 11, 11, 10, 10, 10, 10, 10, 10, 10, 13, 10, 10, 11, 10, 11, 10, 10, 11, 10, 13, 13, 10, 11, 11, 13, 10, 10, 11, 10, 11, 11, 10, 11, 10, 10, 10, 10, 13, 10, 13, 13, 10, 10, 10, 10, 13, 10, 10, 10, 10, 10, 10, 10, 11, 10, 10, 10, 10, 11, 11, 13, 10, 10, 13, 11, 10, 13, 10, 10, 10, 10, 10, 10, 10, 13, 10, 10, 10, 10, 11, 11, 13, 11, 13, 10, 10, 10, 11, 13, 10, 10, 10, 10, 11, 10, 10, 10, 10, 10, 10, 11, 10, 10, 10, 11, 11, 11, 11, 10, 11, 10, 10, 11, 10, 10, 11, 10, 10, 10, 11, 11, 13, 10, 10, 10, 10, 10, 10, 10, 11, 10, 10, 13, 13, 13, 10, 10, 10, 11, 13, 13, 10, 10, 10, 13, 10, 10, 10, 10, 13, 10, 11, 10, 13, 10, 10, 10, 10, 11, 10, 10, 11, 10, 10, 10, 10, 11, 10, 10, 13, 11, 10, 13, 10, 10, 13, 10, 11, 13, 10, 10, 10, 13, 13, 13, 11, 11, 10, 10, 13, 13, 10, 10, 13, 13, 10, 11, 11, 10, 10, 11, 10, 11, 13, 11, 10, 10, 13, 10, 10, 11, 10, 10, 10, 10, 10, 10, 10, 13, 10, 10, 10, 10, 10, 13, 10, 10, 11, 10, 13, 11, 11, 10, 10, 11, 11, 10, 10, 13, 10, 10, 11, 11, 11, 11, 13, 10, 13, 10, 10, 10, 13, 10, 10, 10, 10, 10, 10, 13, 11, 10, 13, 11, 13, 10, 10, 10, 13, 10, 10, 13, 11, 10, 11, 10, 10, 10, 10, 10, 10, 11, 10, 10, 10, 10, 13, 10, 11, 10, 11, 10, 10, 10, 10, 10, 10, 13, 10, 10, 13, 11, 10, 10, 10, 10, 10, 13, 10, 10, 13, 11, 13, 10, 13, 10, 10, 10, 10, 10, 10, 11, 10, 13, 10, 11, 13, 10, 11, 10, 10, 13, 10, 10, 10, 10, 10, 10, 10, 13, 11, 10, 10, 13, 10, 11, 11, 11, 10, 10, 10, 13, 10, 10, 13, 11, 10, 10, 10, 10, 10, 10, 13, 10, 11, 10, 11, 10, 11, 10, 10, 10, 13, 13, 13, 10, 10, 13, 11, 10, 13, 13, 11, 11, 10, 10, 10, 13, 11, 13, 11, 10, 13, 10, 11, 10, 10, 10, 11, 11, 11, 10, 13, 13, 10, 10, 13, 10, 10, 10, 10, 11, 10, 10, 10, 10, 10, 11, 10, 13, 10, 10, 10, 13, 10, 11, 10, 10, 10, 10, 11, 11, 10, 13, 10, 10, 13, 10, 10, 10, 10, 10, 13, 10, 10, 10, 13, 10, 10, 10, 10, 10, 11, 11, 13, 11, 10, 10, 10, 10, 11, 13, 13, 11, 10, 13, 10, 10, 10, 10, 11, 11, 10, 10, 11, 10, 10, 10, 11, 10, 11, 10, 11, 10, 10, 10, 11, 13, 11, 10, 10, 10, 13, 13, 10, 10, 11, 10, 10, 10, 13, 10, 13, 10, 10, 10, 13, 10, 10, 13, 10, 10, 10, 10, 13, 11, 10, 10, 10, 10, 10, 10, 10, 13, 11, 10, 10, 13, 13, 13, 10, 10, 11, 10, 10, 10, 10, 11, 10, 10, 10, 10, 10, 13, 10, 10, 10, 10, 11, 10, 10, 10, 10, 10, 10, 11, 10, 10, 10, 11, 10, 10, 11, 10, 13, 11, 13, 10, 10, 13, 11, 11, 10, 11, 10, 10, 10, 10, 10, 13, 10, 10, 11, 11, 11, 11, 10, 10, 10, 10, 10, 13, 10, 10, 13, 10, 10, 10, 13, 13, 10, 13, 10, 10, 10, 13, 10, 11, 13, 10, 11, 10, 10, 10, 10, 11, 10, 10, 10, 10, 13, 13, 10, 13, 10, 11, 10, 11, 10, 13, 10, 13, 11, 10, 10, 10, 10, 10, 11, 10, 11, 10, 13, 10, 10, 10, 10, 10, 10, 10, 13, 10, 13, 10, 11, 13, 10, 10, 10, 10, 10, 11, 11, 10, 10, 13, 13, 10, 11, 10, 13, 10, 11, 11, 10, 10, 13, 11, 10, 10, 10, 13, 11, 11, 13, 13, 11, 13, 10, 10, 10, 10, 13, 10, 11, 10, 11, 13, 10, 11, 10, 10, 13, 10, 13, 11, 11, 10, 11, 11, 10, 10, 10, 10, 10, 10, 11, 10, 10, 13, 13, 10, 10, 13, 10, 10, 10, 10, 10, 10, 10, 13, 11, 11, 10, 10, 13, 10, 10, 13, 10, 13, 11, 10, 10, 13, 13, 13, 10, 10, 11, 10, 10, 10, 13, 11, 10, 10, 13, 10, 13, 10, 10, 10, 10, 10, 11, 10, 10, 10, 10, 10, 13, 10, 10, 10, 10, 10, 10, 10, 11, 13, 13, 10, 10, 10, 10, 10, 10, 10, 10, 13, 10, 11, 10, 10, 13, 10, 10, 10, 10, 10, 11, 10, 11, 13, 10, 10, 13, 10, 13, 10, 10, 13, 13, 10, 13, 10, 10, 10, 11, 13, 10, 13, 11, 10, 13, 10, 11, 10, 10, 10, 11, 10, 13, 13, 11, 10, 10, 13, 10, 11, 13, 10, 10, 13, 10, 11, 10, 10, 11, 10, 10, 10, 10, 11, 10, 10, 13, 10, 13, 11, 10, 10, 11, 10, 13, 11, 10, 10, 13, 13, 10, 11, 13, 11, 13, 10, 10, 10, 13, 10, 13, 10, 10, 11, 10, 11, 10, 10, 10, 10, 10, 13, 13, 10, 11, 10, 13, 10, 10, 13, 10, 13, 10, 10, 10, 10, 13, 10, 11, 10, 10, 11, 10, 13, 13, 10, 11, 11, 10, 10, 13, 10, 10, 11, 11, 13, 10, 11, 11, 11, 10, 13, 11, 10, 13, 10, 10, 10, 10, 11, 10, 10, 10, 10, 10, 10, 11, 10, 13, 11, 13, 10, 10, 10, 10, 10, 10, 10, 10, 10, 10, 10, 10, 10, 10, 10, 11, 11, 10, 10, 11, 10, 10, 10, 11, 11, 10, 10, 11, 10, 10, 10, 10, 11, 10, 13, 13, 10, 10, 10, 10, 10, 11, 10, 10, 10, 10, 10, 10, 10, 10, 10, 13, 11, 10, 10, 11, 10, 10, 11, 10, 10, 13, 11, 10, 11, 10, 11, 11, 10, 10, 13, 10, 10, 10, 10, 11, 10, 11, 11, 10, 13, 13, 10, 11, 10, 10, 13, 11, 11, 11, 10, 10, 10, 10, 10, 11, 10, 10, 10, 13, 13, 10, 13, 10, 10, 10, 10, 10, 11, 10, 10, 10, 10, 11, 11, 10, 10, 11, 10, 11, 11, 10, 10, 10, 10, 10, 10, 10, 10, 10, 13, 10, 10, 10, 10, 10, 10, 10, 10, 10, 10, 10, 10, 10, 10, 10, 13, 10, 10, 11, 10, 11, 10, 10, 11, 10, 11, 11, 10, 13, 10, 13, 10, 10, 11, 10, 10, 10, 10, 11, 10, 13, 13, 11, 10, 10, 11, 10, 10, 10, 13, 10, 10, 10, 10, 10, 11, 10, 11, 11, 13, 13, 10, 10, 11, 11, 10, 10, 11, 11, 10, 10, 11, 11, 10, 13, 13, 10, 11, 10, 10, 10, 10, 10, 11, 10, 10, 13, 10, 11, 11, 10, 10, 10, 10, 10, 11, 11, 10, 10, 10, 13, 10, 10, 10, 10, 10, 10, 10, 13, 10, 10, 11, 10, 13, 10, 10, 10, 10, 11, 10, 11, 11, 13, 10, 10, 13, 10, 13, 10, 10, 10, 11, 11, 10, 10, 11, 11, 10, 11, 10, 13, 10, 10, 10, 10, 11, 11, 10, 10, 13, 10, 11, 10, 13, 11, 10, 10, 10, 10, 13, 11, 11, 11, 11, 10, 10, 10, 10, 13, 10, 13, 10, 10, 10, 10, 13, 10, 10, 10, 13, 10, 10, 10, 10, 10, 10, 10, 11, 13, 13, 10, 10, 13, 13, 10, 10, 10, 13, 13, 10, 13, 10, 11, 10, 10, 10, 10, 10, 10, 11, 11, 10, 10, 10, 13, 11, 13, 10, 11, 10, 11, 10, 11, 10, 13, 10, 11, 10, 10, 13, 13, 10, 10, 10, 10, 13, 11, 10, 13, 10, 10, 10, 11, 11, 11, 10, 10, 10, 10, 10, 13, 10, 13, 10, 10, 10, 10, 10, 11, 13, 10, 10, 10, 10, 10, 10, 10, 13, 10, 10, 11, 10, 10, 10, 11, 10, 13, 10, 11, 11, 10, 11, 10, 10, 13, 10, 10, 10, 10, 10, 10, 10, 10, 10, 13, 10, 13, 10, 10, 13, 10, 13, 10, 10, 11, 11, 10, 10, 10, 10, 10, 10, 11, 10, 10, 10, 10, 10, 10, 10, 10, 10, 13, 13, 13, 13, 13, 10, 11, 10, 10, 11, 11, 10, 13, 10, 13, 10, 11, 11, 11, 10, 10, 11, 10, 11, 13, 10, 11, 10, 11, 10, 10, 11, 10, 10, 10, 10, 10, 10, 13, 10, 10, 10, 11, 10, 10, 10, 10, 10, 10, 10, 13, 10, 11, 10, 10, 10, 11, 10, 10, 11, 10, 11, 10, 10, 10, 13, 10, 11, 11, 10, 11, 13, 13, 10, 10, 10, 13, 10, 10, 11, 11, 10, 11, 10, 11, 13, 10, 10, 13, 11, 10, 10, 10, 13, 10, 10, 10, 11, 11, 11, 13, 10, 10, 10, 10, 13, 11, 10, 11, 11, 10, 10, 11, 13, 10, 10, 11, 10, 10, 10, 13, 10, 10, 10, 10, 10, 11, 13, 11, 10, 10, 13, 13, 11, 13, 13, 10, 13, 13, 10, 11, 10, 11, 10, 13, 10, 10, 10, 11, 10, 10, 10, 10, 10, 10, 13, 10, 10, 10, 11, 10, 11, 11, 13, 10, 10, 10, 10, 10, 10, 10, 11, 10, 10, 13, 11, 10, 11, 10, 11, 10, 11, 11, 10, 11, 10, 10, 11, 11, 13, 11, 13, 10, 10, 10, 10, 10, 10, 11, 13, 10, 10, 11, 10, 10, 10, 10, 13, 13, 10, 10, 10, 11, 13, 10, 11, 10, 10, 10, 10, 13, 11, 10, 10, 10, 10, 13, 10, 13, 10, 13, 13, 10, 11, 10, 11, 10, 10, 10, 10, 11, 10, 13, 10, 13, 10, 11, 10, 13, 10, 13, 13, 10, 10, 10, 10, 10, 10, 11, 13, 10, 10, 10, 11, 10, 13, 13, 10, 10, 10, 11, 10, 11, 10, 11, 10, 10, 13, 10, 10, 11, 13, 10, 10, 10, 11, 11, 10, 10, 10, 10, 11, 10, 10, 13, 10, 10, 11, 10, 10, 10, 10, 10, 10, 11, 11, 10, 10, 10, 10, 13, 10, 10, 10, 10, 10, 11, 10, 10, 10, 11, 11, 10, 10, 10, 10, 10, 10, 10, 10, 13, 11, 10, 10, 10, 13, 10, 13, 11, 10, 13, 13, 10, 10, 11, 10, 13, 13, 10, 10, 10, 10, 13, 13, 11, 10, 10, 11, 10, 13, 10, 11, 10, 10, 13, 10, 13, 10, 10, 10, 10, 10, 11, 11, 13, 11, 13, 10, 10, 10, 10, 11, 10, 13, 11, 10, 10, 10, 13, 10, 10, 10, 10, 10, 11, 10, 10, 11, 10, 10, 10, 11, 11, 10, 13, 11, 11, 10, 13, 13, 13, 13, 10, 11, 10, 10, 10, 10, 11, 11, 10, 10, 13, 10, 10, 13, 11, 10, 10, 10, 10, 10, 10, 10, 13, 10, 10, 10, 10, 13, 10, 10, 10, 10, 10, 13, 13, 10, 11, 11, 10, 13, 10, 10, 10, 13, 10, 10, 10, 10, 10, 10, 10, 10, 10, 10, 13, 11, 13, 10, 10, 10, 13, 10, 13, 11, 10, 10, 10, 13, 11, 11, 10, 10, 11, 13, 10, 11, 10, 10, 10, 10, 10, 10, 10, 10, 10, 10, 10, 10, 11, 10, 10, 10, 10, 11, 10, 13, 10, 13, 11, 10, 10, 10, 13, 11, 11, 10, 13, 10, 11, 10, 11, 10, 13, 10, 11, 10, 10, 10, 13, 10, 13, 13, 11, 13, 10, 13, 11, 10, 11, 10, 10, 10, 10, 10, 11, 11, 13, 10, 10, 13, 10, 10, 11, 10, 10, 10, 11, 11, 10, 11, 11, 10, 10, 13, 10, 10, 10, 10, 10, 11, 10, 10, 10, 11, 11, 10, 13, 11, 10, 10, 11, 11, 13, 11, 11, 10, 13, 10, 10, 13, 10, 13, 11, 13, 10, 11, 10, 10, 13, 10, 11, 10, 11, 11, 13, 13, 13, 10, 10, 10, 11, 10, 10, 13, 10, 10, 10, 13, 11, 10, 11, 11, 11, 13, 10, 11, 10, 11, 11, 10, 10, 10, 10, 10, 11, 10, 10, 10, 13, 10, 13, 10, 11, 11, 11, 10, 10, 10, 10, 10, 10, 13, 10, 10, 10, 11, 10, 13, 11, 10, 10, 11, 10, 10, 10, 10, 10, 10, 11, 13, 13, 10, 10, 13, 10, 10, 10, 11, 11, 10, 11, 10, 10, 11, 10, 13, 13, 10, 11, 13, 13, 10, 10, 10, 13, 10, 10, 10, 10, 10, 13, 10, 13, 10, 13, 11, 13, 11, 10, 13, 11, 10, 13, 13, 10, 10, 10, 10, 11, 10, 11, 10, 11, 11, 10, 10, 10, 10, 13, 11, 13, 11, 10, 10, 13, 13, 10, 10, 10, 10, 13, 13, 10, 10, 11, 13, 11, 11, 13, 13, 10, 10, 10, 10, 10, 13, 13, 11, 13, 10, 10, 10, 10, 10, 10, 11, 10, 10, 11, 10, 10, 10, 10, 11, 11, 10, 10, 10, 10, 11, 10, 11, 10, 11, 10, 10, 13, 11, 10, 13, 10, 10, 10, 10, 10, 10, 13, 10, 10, 10, 10, 10, 11, 10, 13, 11, 13, 11, 10, 10, 13, 10, 11, 10, 11, 11, 10, 11, 10, 11, 10, 10, 10, 10, 10, 10, 10, 13, 10, 11, 10, 11, 10, 13, 13, 11, 10, 13, 11, 11, 10, 10, 10, 11, 11, 10, 13, 10, 10, 11, 11, 10, 10, 11, 10, 13, 11, 11, 11, 10, 10, 10, 11, 11, 10, 13, 10, 10, 10, 10, 10, 11, 10, 10, 11, 10, 10, 10, 11, 10, 11, 10, 10, 10, 11, 10, 10, 10, 11, 10, 10, 10, 13, 11, 11, 11, 13, 11, 13, 11, 11, 11, 10, 10, 10, 10, 10, 10, 10, 13, 10, 10, 10, 13, 10, 11, 10, 10, 10, 11, 11, 11, 10, 11, 10, 10, 11, 13, 10, 10, 10, 11, 10, 10, 10, 10, 13, 13, 10, 10, 10, 10, 10, 10, 13, 13, 10, 10, 11, 11, 13, 11, 13, 11, 10, 13, 10, 10, 13, 11, 10, 10, 10, 10, 11, 13, 13, 13, 10, 11, 13, 10, 10, 13, 10, 10, 10, 10, 11, 10, 10, 11, 10, 10, 11, 10, 13, 10, 10, 10, 11, 10, 11, 10, 13, 10, 13, 10, 13, 11, 10, 11, 10, 10, 10, 10, 13, 13, 13, 13, 13, 10, 10, 10, 10, 10, 11, 10, 13, 11, 11, 11, 11, 11, 10, 10, 10, 13, 13, 11, 10, 10, 10, 10, 10, 10, 10, 10, 13, 10, 10, 10, 10, 10, 13, 13, 10, 10, 13, 13, 10, 10, 11)\n",
            "[10, 11, 13]\n",
            "5247\n"
          ],
          "name": "stdout"
        }
      ]
    },
    {
      "cell_type": "code",
      "metadata": {
        "id": "SP2cSUDD1H2n",
        "colab_type": "code",
        "colab": {}
      },
      "source": [
        "# Metrics to gather\n",
        "test_loss = tf.metrics.Mean(name='test_loss')\n",
        "test_acc = tf.metrics.Mean(name='test_accuracy')\n",
        "def test_step(support, query, support_labels, query_labels, K, C, v):\n",
        "    loss, mc_predictions, mean_accuracy, classwise_mean_acc, y = ProtoModel(support, query, support_labels, query_labels, K, C, v,n_times,training=False)\n",
        "    return loss, mc_predictions, mean_accuracy, classwise_mean_acc, y"
      ],
      "execution_count": null,
      "outputs": []
    },
    {
      "cell_type": "code",
      "metadata": {
        "id": "XsWfzZo5e242",
        "colab_type": "code",
        "colab": {
          "base_uri": "https://localhost:8080/",
          "height": 191
        },
        "outputId": "e4e25d84-5be7-4702-d928-48f03647511a"
      },
      "source": [
        "for epoch in range(1): #1000\n",
        "    test_loss.reset_states()  \n",
        "    test_acc.reset_states()        \n",
        "    tquery_patches1, tsupport_patches1, query_labels1, support_labels1, x1 = test_episode(test_patches_class,test_class_labels,3,5,0,3)    \n",
        "    loss1, mc_predictions1, mean_accuracy1, classwise_mean_acc1, y1 = test_step(tsupport_patches1, tquery_patches1,support_labels1, query_labels1, 5, 3, x1/3)      \n",
        "    print('OA1',mean_accuracy1)\n",
        "# Class-wise Accuracy\n",
        "    for i in range(tC) :\n",
        "      print('class',i+1,classwise_mean_acc1[i])\n",
        "    print('loss',loss1)\n",
        "    tquery_patches2, tsupport_patches2, query_labels2, support_labels2, x2 = test_episode(test_patches_class,test_class_labels,3,5,3,6)    \n",
        "    loss2, mc_predictions2, mean_accuracy2, classwise_mean_acc2, y2 = test_step(tsupport_patches2, tquery_patches2,support_labels2, query_labels2, 5, 3, x2/3)\n",
        "    print('OA2',mean_accuracy2) \n",
        "# Class-wise Accuracy\n",
        "    for i in range(tC) :\n",
        "      print('class',i+4,classwise_mean_acc2[i])\n",
        "    print('loss',loss2)"
      ],
      "execution_count": null,
      "outputs": [
        {
          "output_type": "stream",
          "text": [
            "OA1 tf.Tensor(0.92834, shape=(), dtype=float32)\n",
            "class 1 [0.8851206843874122]\n",
            "class 2 [1.0]\n",
            "class 3 [1.0]\n",
            "loss tf.Tensor(19.8671, shape=(), dtype=float32)\n",
            "OA2 tf.Tensor(0.63228035, shape=(), dtype=float32)\n",
            "class 4 [0.9737089201877934]\n",
            "class 5 [0.6687319289549772]\n",
            "class 6 [0.28357380688124306]\n",
            "loss tf.Tensor(123.081, shape=(), dtype=float32)\n"
          ],
          "name": "stdout"
        }
      ]
    },
    {
      "cell_type": "markdown",
      "metadata": {
        "id": "JRXITw9htGuw",
        "colab_type": "text"
      },
      "source": [
        "**Overall Accuracy**"
      ]
    },
    {
      "cell_type": "code",
      "metadata": {
        "id": "oGeG6aLFtFvM",
        "colab_type": "code",
        "colab": {
          "base_uri": "https://localhost:8080/",
          "height": 34
        },
        "outputId": "5fe86efe-bd51-4747-c506-e00373b88ceb"
      },
      "source": [
        "mean_predictions1 =  mc_predictions1\n",
        "mean_predictions2 =  mc_predictions2\n",
        "overall_predictions = tf.concat([mean_predictions1,mean_predictions2],axis=0)\n",
        "overall_true_labels = tf.concat([y1,y2],axis=0)\n",
        "correct_pred = tf.cast(tf.equal(                                             # accuracy for the current pass\n",
        "            tf.cast(tf.argmax(overall_predictions, axis=-1), tf.int32), \n",
        "            tf.cast(tf.argmax(overall_true_labels,axis=-1), tf.int32)), tf.float32)\n",
        "o_acc = tf.reduce_mean(correct_pred) \n",
        "print(\"Overall accuracy:\",o_acc)\n",
        "\n"
      ],
      "execution_count": null,
      "outputs": [
        {
          "output_type": "stream",
          "text": [
            "Overall accuracy: tf.Tensor(0.733303, shape=(), dtype=float32)\n"
          ],
          "name": "stdout"
        }
      ]
    },
    {
      "cell_type": "markdown",
      "metadata": {
        "id": "ZxDxvPzisig0",
        "colab_type": "text"
      },
      "source": [
        "**Confusion Matrix**"
      ]
    },
    {
      "cell_type": "code",
      "metadata": {
        "id": "CoyQLsRUshg7",
        "colab_type": "code",
        "colab": {
          "base_uri": "https://localhost:8080/",
          "height": 382
        },
        "outputId": "4b079006-6093-466c-96e7-1f838dfc2be2"
      },
      "source": [
        "from sklearn.metrics import confusion_matrix \n",
        "from sklearn.metrics import accuracy_score \n",
        "from sklearn.metrics import classification_report \n",
        "mean_predictions1 =  mc_predictions1\n",
        "cm_pred1 = tf.argmax(mean_predictions1, axis=-1)\n",
        "mean_predictions2 =  mc_predictions2\n",
        "cm_pred2 = tf.argmax(mean_predictions2, axis=-1) + 3\n",
        "overall_predictions = tf.concat([cm_pred1,cm_pred2],axis=0)\n",
        "cm_true1 = tf.argmax(y1,axis=-1)\n",
        "cm_true2 = tf.argmax(y2,axis=-1) + 3\n",
        "overall_true_labels = tf.concat([cm_true1,cm_true2],axis=0)\n",
        "results = confusion_matrix(overall_true_labels,overall_predictions) \n",
        "print ('Confusion Matrix :')\n",
        "print(results) \n",
        "print ('Report : ')\n",
        "print (classification_report(overall_true_labels, overall_predictions)) "
      ],
      "execution_count": null,
      "outputs": [
        {
          "output_type": "stream",
          "text": [
            "Confusion Matrix :\n",
            "[[2897   79  297    0    0    0]\n",
            " [   0 1063    0    0    0    0]\n",
            " [   0    0  911    0    0    0]\n",
            " [   0    0    0 1037    6   22]\n",
            " [   0    0    0   63 4857 2343]\n",
            " [   0    0    0   12 1279  511]]\n",
            "Report : \n",
            "              precision    recall  f1-score   support\n",
            "\n",
            "           0       1.00      0.89      0.94      3273\n",
            "           1       0.93      1.00      0.96      1063\n",
            "           2       0.75      1.00      0.86       911\n",
            "           3       0.93      0.97      0.95      1065\n",
            "           4       0.79      0.67      0.72      7263\n",
            "           5       0.18      0.28      0.22      1802\n",
            "\n",
            "    accuracy                           0.73     15377\n",
            "   macro avg       0.76      0.80      0.78     15377\n",
            "weighted avg       0.78      0.73      0.75     15377\n",
            "\n"
          ],
          "name": "stdout"
        }
      ]
    },
    {
      "cell_type": "markdown",
      "metadata": {
        "id": "DiZ7OlADYI6S",
        "colab_type": "text"
      },
      "source": [
        "**Kappa Statistic**\n"
      ]
    },
    {
      "cell_type": "code",
      "metadata": {
        "id": "EmRzgFyjYNTs",
        "colab_type": "code",
        "colab": {
          "base_uri": "https://localhost:8080/",
          "height": 34
        },
        "outputId": "a0786758-2c90-4b65-c8e8-80afdaa52597"
      },
      "source": [
        "import sklearn\n",
        "sklearn.metrics.cohen_kappa_score(overall_true_labels,overall_predictions)"
      ],
      "execution_count": null,
      "outputs": [
        {
          "output_type": "execute_result",
          "data": {
            "text/plain": [
              "0.6369115087274826"
            ]
          },
          "metadata": {
            "tags": []
          },
          "execution_count": 126
        }
      ]
    },
    {
      "cell_type": "code",
      "metadata": {
        "id": "hgDzRlHs_5HX",
        "colab_type": "code",
        "colab": {}
      },
      "source": [
        "from sklearn.metrics import classification_report, confusion_matrix\n",
        "import itertools\n",
        "\n",
        "def plot_confusion_matrix(cm, classes,\n",
        "                          normalize=False,\n",
        "                          title='Confusion matrix',\n",
        "                          cmap=plt.cm.Blues):\n",
        "    \"\"\"\n",
        "    This function prints and plots the confusion matrix.\n",
        "    Normalization can be applied by setting `normalize=True`.\n",
        "    \"\"\"\n",
        "    if normalize:\n",
        "        cm = cm.astype('float') / cm.sum(axis=1)[:, np.newaxis]\n",
        "        print(\"Normalized confusion matrix\")\n",
        "    else:\n",
        "        print('Confusion matrix, without normalization')\n",
        "\n",
        "    print(cm)\n",
        "\n",
        "    plt.imshow(cm, interpolation='nearest', cmap=cmap)\n",
        "    plt.title(title)\n",
        "    plt.colorbar()\n",
        "    tick_marks = np.arange(len(classes))\n",
        "    plt.xticks(tick_marks, classes, rotation=45)\n",
        "    plt.yticks(tick_marks, classes)\n",
        "\n",
        "    fmt = '.2f' if normalize else 'd'\n",
        "    thresh = cm.max() / 2.\n",
        "    for i, j in itertools.product(range(cm.shape[0]), range(cm.shape[1])):\n",
        "        plt.text(j, i, format(cm[i, j], fmt),\n",
        "                 horizontalalignment=\"center\",\n",
        "                 color=\"white\" if cm[i, j] > thresh else \"black\")\n",
        "\n",
        "    plt.tight_layout()\n",
        "    plt.ylabel('True label')\n",
        "    plt.xlabel('Predicted label')"
      ],
      "execution_count": null,
      "outputs": []
    },
    {
      "cell_type": "code",
      "metadata": {
        "id": "6e8xzjes_DwM",
        "colab_type": "code",
        "colab": {
          "base_uri": "https://localhost:8080/",
          "height": 424
        },
        "outputId": "0de2eb82-84a4-421d-ff46-d5485a93b66a"
      },
      "source": [
        "plt.figure()\n",
        "plot_confusion_matrix(results,classes=['1','2','3','4','5','6'],normalize=False,title='Confusion matrix')"
      ],
      "execution_count": null,
      "outputs": [
        {
          "output_type": "stream",
          "text": [
            "Confusion matrix, without normalization\n",
            "[[2897   79  297    0    0    0]\n",
            " [   0 1063    0    0    0    0]\n",
            " [   0    0  911    0    0    0]\n",
            " [   0    0    0 1037    6   22]\n",
            " [   0    0    0   63 4857 2343]\n",
            " [   0    0    0   12 1279  511]]\n"
          ],
          "name": "stdout"
        },
        {
          "output_type": "display_data",
          "data": {
            "image/png": "[encoded data removed]",
            "text/plain": [
              "<Figure size 432x288 with 2 Axes>"
            ]
          },
          "metadata": {
            "tags": []
          }
        }
      ]
    },
    {
      "cell_type": "markdown",
      "metadata": {
        "id": "sQigbYZucEcf",
        "colab_type": "text"
      },
      "source": [
        "**Visualization**"
      ]
    },
    {
      "cell_type": "code",
      "metadata": {
        "id": "mldmZkjW9ht-",
        "colab_type": "code",
        "colab": {
          "base_uri": "https://localhost:8080/",
          "height": 86
        },
        "outputId": "84389790-80a7-486e-bfa6-2ce252d9af6e"
      },
      "source": [
        "import seaborn as sns\n",
        "import time\n",
        "import numpy as np\n",
        "import matplotlib.pyplot as plt\n",
        "import matplotlib.patheffects as PathEffects\n",
        "import pandas as pd\n",
        "\n",
        "sns.set_style('darkgrid')\n",
        "sns.set_palette('muted')\n",
        "sns.set_context(\"notebook\", font_scale=1.5,rc={\"lines.linewidth\": 2.5})"
      ],
      "execution_count": null,
      "outputs": [
        {
          "output_type": "stream",
          "text": [
            "/usr/local/lib/python3.6/dist-packages/statsmodels/tools/_testing.py:19: FutureWarning:\n",
            "\n",
            "pandas.util.testing is deprecated. Use the functions in the public API at pandas.testing instead.\n",
            "\n"
          ],
          "name": "stderr"
        }
      ]
    },
    {
      "cell_type": "code",
      "metadata": {
        "id": "JAlCAQSYMWJB",
        "colab_type": "code",
        "colab": {}
      },
      "source": [
        "def visualise(dataset,i) :\n",
        "  plt.figure(figsize=(8,6))\n",
        "  plt.imshow(dataset[:,:,i],cmap='jet')\n",
        "  plt.title(f'Band-{i}',fontsize=14)\n",
        "  plt.axis('off')\n",
        "  plt.colorbar()\n",
        "  plt.show()"
      ],
      "execution_count": null,
      "outputs": []
    },
    {
      "cell_type": "code",
      "metadata": {
        "id": "Dc5gBBwPNZnW",
        "colab_type": "code",
        "colab": {
          "base_uri": "https://localhost:8080/",
          "height": 374
        },
        "outputId": "aca13eb9-afe9-44b7-f9e0-fe97c4b4b23a"
      },
      "source": [
        "visualise(sa_x1,50)"
      ],
      "execution_count": null,
      "outputs": [
        {
          "output_type": "display_data",
          "data": {
            "image/png": "[encoded data removed]",
            "text/plain": [
              "<Figure size 576x432 with 2 Axes>"
            ]
          },
          "metadata": {
            "tags": []
          }
        }
      ]
    },
    {
      "cell_type": "code",
      "metadata": {
        "id": "zVsFENgMU_X1",
        "colab_type": "code",
        "colab": {}
      },
      "source": [
        "def pixel_values(dataset,ground_truth) :\n",
        "  df = pd.DataFrame()\n",
        "  for i in range(dataset.shape[2]) :\n",
        "    df = pd.concat([df,pd.DataFrame(dataset[:,:,i].ravel())],axis=1)\n",
        "  df = pd.concat([df,pd.DataFrame(ground_truth.ravel())],axis=1)\n",
        "  df.columns = [f'Band-{i}' for i in range(1,dataset.shape[2]+1)] + ['class']\n",
        "  return df"
      ],
      "execution_count": null,
      "outputs": []
    },
    {
      "cell_type": "code",
      "metadata": {
        "id": "ctWqrle-XF9Q",
        "colab_type": "code",
        "colab": {}
      },
      "source": [
        "df = pixel_values(sa_x1,sa_y)"
      ],
      "execution_count": null,
      "outputs": []
    },
    {
      "cell_type": "code",
      "metadata": {
        "id": "KQNq53rEXKyQ",
        "colab_type": "code",
        "colab": {
          "base_uri": "https://localhost:8080/",
          "height": 256
        },
        "outputId": "55100e0b-3996-41bd-fecb-ab93849dcd95"
      },
      "source": [
        "df.head()"
      ],
      "execution_count": null,
      "outputs": [
        {
          "output_type": "execute_result",
          "data": {
            "text/html": [
              "<div>\n",
              "<style scoped>\n",
              "    .dataframe tbody tr th:only-of-type {\n",
              "        vertical-align: middle;\n",
              "    }\n",
              "\n",
              "    .dataframe tbody tr th {\n",
              "        vertical-align: top;\n",
              "    }\n",
              "\n",
              "    .dataframe thead th {\n",
              "        text-align: right;\n",
              "    }\n",
              "</style>\n",
              "<table border=\"1\" class=\"dataframe\">\n",
              "  <thead>\n",
              "    <tr style=\"text-align: right;\">\n",
              "      <th></th>\n",
              "      <th>Band-1</th>\n",
              "      <th>Band-2</th>\n",
              "      <th>Band-3</th>\n",
              "      <th>Band-4</th>\n",
              "      <th>Band-5</th>\n",
              "      <th>Band-6</th>\n",
              "      <th>Band-7</th>\n",
              "      <th>Band-8</th>\n",
              "      <th>Band-9</th>\n",
              "      <th>Band-10</th>\n",
              "      <th>Band-11</th>\n",
              "      <th>Band-12</th>\n",
              "      <th>Band-13</th>\n",
              "      <th>Band-14</th>\n",
              "      <th>Band-15</th>\n",
              "      <th>Band-16</th>\n",
              "      <th>Band-17</th>\n",
              "      <th>Band-18</th>\n",
              "      <th>Band-19</th>\n",
              "      <th>Band-20</th>\n",
              "      <th>Band-21</th>\n",
              "      <th>Band-22</th>\n",
              "      <th>Band-23</th>\n",
              "      <th>Band-24</th>\n",
              "      <th>Band-25</th>\n",
              "      <th>Band-26</th>\n",
              "      <th>Band-27</th>\n",
              "      <th>Band-28</th>\n",
              "      <th>Band-29</th>\n",
              "      <th>Band-30</th>\n",
              "      <th>Band-31</th>\n",
              "      <th>Band-32</th>\n",
              "      <th>Band-33</th>\n",
              "      <th>Band-34</th>\n",
              "      <th>Band-35</th>\n",
              "      <th>Band-36</th>\n",
              "      <th>Band-37</th>\n",
              "      <th>Band-38</th>\n",
              "      <th>Band-39</th>\n",
              "      <th>Band-40</th>\n",
              "      <th>...</th>\n",
              "      <th>Band-166</th>\n",
              "      <th>Band-167</th>\n",
              "      <th>Band-168</th>\n",
              "      <th>Band-169</th>\n",
              "      <th>Band-170</th>\n",
              "      <th>Band-171</th>\n",
              "      <th>Band-172</th>\n",
              "      <th>Band-173</th>\n",
              "      <th>Band-174</th>\n",
              "      <th>Band-175</th>\n",
              "      <th>Band-176</th>\n",
              "      <th>Band-177</th>\n",
              "      <th>Band-178</th>\n",
              "      <th>Band-179</th>\n",
              "      <th>Band-180</th>\n",
              "      <th>Band-181</th>\n",
              "      <th>Band-182</th>\n",
              "      <th>Band-183</th>\n",
              "      <th>Band-184</th>\n",
              "      <th>Band-185</th>\n",
              "      <th>Band-186</th>\n",
              "      <th>Band-187</th>\n",
              "      <th>Band-188</th>\n",
              "      <th>Band-189</th>\n",
              "      <th>Band-190</th>\n",
              "      <th>Band-191</th>\n",
              "      <th>Band-192</th>\n",
              "      <th>Band-193</th>\n",
              "      <th>Band-194</th>\n",
              "      <th>Band-195</th>\n",
              "      <th>Band-196</th>\n",
              "      <th>Band-197</th>\n",
              "      <th>Band-198</th>\n",
              "      <th>Band-199</th>\n",
              "      <th>Band-200</th>\n",
              "      <th>Band-201</th>\n",
              "      <th>Band-202</th>\n",
              "      <th>Band-203</th>\n",
              "      <th>Band-204</th>\n",
              "      <th>class</th>\n",
              "    </tr>\n",
              "  </thead>\n",
              "  <tbody>\n",
              "    <tr>\n",
              "      <th>0</th>\n",
              "      <td>290</td>\n",
              "      <td>381</td>\n",
              "      <td>585</td>\n",
              "      <td>1041</td>\n",
              "      <td>1316</td>\n",
              "      <td>1397</td>\n",
              "      <td>1319</td>\n",
              "      <td>1462</td>\n",
              "      <td>1643</td>\n",
              "      <td>1683</td>\n",
              "      <td>1656</td>\n",
              "      <td>1670</td>\n",
              "      <td>1584</td>\n",
              "      <td>1643</td>\n",
              "      <td>1659</td>\n",
              "      <td>1619</td>\n",
              "      <td>1723</td>\n",
              "      <td>1785</td>\n",
              "      <td>1805</td>\n",
              "      <td>1822</td>\n",
              "      <td>1809</td>\n",
              "      <td>1790</td>\n",
              "      <td>1786</td>\n",
              "      <td>1770</td>\n",
              "      <td>1779</td>\n",
              "      <td>1737</td>\n",
              "      <td>1706</td>\n",
              "      <td>1709</td>\n",
              "      <td>1699</td>\n",
              "      <td>1663</td>\n",
              "      <td>1702</td>\n",
              "      <td>1682</td>\n",
              "      <td>1715</td>\n",
              "      <td>1682</td>\n",
              "      <td>1603</td>\n",
              "      <td>1615</td>\n",
              "      <td>1746</td>\n",
              "      <td>1784</td>\n",
              "      <td>1607</td>\n",
              "      <td>1757</td>\n",
              "      <td>...</td>\n",
              "      <td>424</td>\n",
              "      <td>429</td>\n",
              "      <td>437</td>\n",
              "      <td>409</td>\n",
              "      <td>391</td>\n",
              "      <td>378</td>\n",
              "      <td>364</td>\n",
              "      <td>354</td>\n",
              "      <td>329</td>\n",
              "      <td>340</td>\n",
              "      <td>344</td>\n",
              "      <td>337</td>\n",
              "      <td>321</td>\n",
              "      <td>310</td>\n",
              "      <td>291</td>\n",
              "      <td>284</td>\n",
              "      <td>272</td>\n",
              "      <td>254</td>\n",
              "      <td>240</td>\n",
              "      <td>250</td>\n",
              "      <td>216</td>\n",
              "      <td>220</td>\n",
              "      <td>192</td>\n",
              "      <td>162</td>\n",
              "      <td>173</td>\n",
              "      <td>149</td>\n",
              "      <td>134</td>\n",
              "      <td>129</td>\n",
              "      <td>138</td>\n",
              "      <td>104</td>\n",
              "      <td>96</td>\n",
              "      <td>109</td>\n",
              "      <td>93</td>\n",
              "      <td>54</td>\n",
              "      <td>79</td>\n",
              "      <td>54</td>\n",
              "      <td>36</td>\n",
              "      <td>11</td>\n",
              "      <td>17</td>\n",
              "      <td>0</td>\n",
              "    </tr>\n",
              "    <tr>\n",
              "      <th>1</th>\n",
              "      <td>290</td>\n",
              "      <td>381</td>\n",
              "      <td>519</td>\n",
              "      <td>1041</td>\n",
              "      <td>1316</td>\n",
              "      <td>1352</td>\n",
              "      <td>1319</td>\n",
              "      <td>1462</td>\n",
              "      <td>1643</td>\n",
              "      <td>1683</td>\n",
              "      <td>1656</td>\n",
              "      <td>1670</td>\n",
              "      <td>1594</td>\n",
              "      <td>1613</td>\n",
              "      <td>1649</td>\n",
              "      <td>1619</td>\n",
              "      <td>1706</td>\n",
              "      <td>1767</td>\n",
              "      <td>1796</td>\n",
              "      <td>1805</td>\n",
              "      <td>1785</td>\n",
              "      <td>1798</td>\n",
              "      <td>1786</td>\n",
              "      <td>1770</td>\n",
              "      <td>1787</td>\n",
              "      <td>1745</td>\n",
              "      <td>1714</td>\n",
              "      <td>1741</td>\n",
              "      <td>1722</td>\n",
              "      <td>1656</td>\n",
              "      <td>1734</td>\n",
              "      <td>1722</td>\n",
              "      <td>1731</td>\n",
              "      <td>1728</td>\n",
              "      <td>1611</td>\n",
              "      <td>1623</td>\n",
              "      <td>1746</td>\n",
              "      <td>1777</td>\n",
              "      <td>1593</td>\n",
              "      <td>1724</td>\n",
              "      <td>...</td>\n",
              "      <td>429</td>\n",
              "      <td>440</td>\n",
              "      <td>439</td>\n",
              "      <td>409</td>\n",
              "      <td>389</td>\n",
              "      <td>382</td>\n",
              "      <td>370</td>\n",
              "      <td>360</td>\n",
              "      <td>331</td>\n",
              "      <td>342</td>\n",
              "      <td>347</td>\n",
              "      <td>340</td>\n",
              "      <td>323</td>\n",
              "      <td>305</td>\n",
              "      <td>298</td>\n",
              "      <td>282</td>\n",
              "      <td>275</td>\n",
              "      <td>254</td>\n",
              "      <td>240</td>\n",
              "      <td>248</td>\n",
              "      <td>211</td>\n",
              "      <td>225</td>\n",
              "      <td>192</td>\n",
              "      <td>162</td>\n",
              "      <td>180</td>\n",
              "      <td>147</td>\n",
              "      <td>136</td>\n",
              "      <td>131</td>\n",
              "      <td>138</td>\n",
              "      <td>111</td>\n",
              "      <td>94</td>\n",
              "      <td>111</td>\n",
              "      <td>96</td>\n",
              "      <td>56</td>\n",
              "      <td>83</td>\n",
              "      <td>56</td>\n",
              "      <td>36</td>\n",
              "      <td>11</td>\n",
              "      <td>15</td>\n",
              "      <td>0</td>\n",
              "    </tr>\n",
              "    <tr>\n",
              "      <th>2</th>\n",
              "      <td>290</td>\n",
              "      <td>381</td>\n",
              "      <td>585</td>\n",
              "      <td>1041</td>\n",
              "      <td>1286</td>\n",
              "      <td>1352</td>\n",
              "      <td>1300</td>\n",
              "      <td>1412</td>\n",
              "      <td>1614</td>\n",
              "      <td>1644</td>\n",
              "      <td>1632</td>\n",
              "      <td>1636</td>\n",
              "      <td>1573</td>\n",
              "      <td>1613</td>\n",
              "      <td>1619</td>\n",
              "      <td>1591</td>\n",
              "      <td>1670</td>\n",
              "      <td>1704</td>\n",
              "      <td>1734</td>\n",
              "      <td>1763</td>\n",
              "      <td>1744</td>\n",
              "      <td>1748</td>\n",
              "      <td>1726</td>\n",
              "      <td>1721</td>\n",
              "      <td>1732</td>\n",
              "      <td>1698</td>\n",
              "      <td>1674</td>\n",
              "      <td>1701</td>\n",
              "      <td>1675</td>\n",
              "      <td>1610</td>\n",
              "      <td>1694</td>\n",
              "      <td>1682</td>\n",
              "      <td>1666</td>\n",
              "      <td>1651</td>\n",
              "      <td>1566</td>\n",
              "      <td>1565</td>\n",
              "      <td>1704</td>\n",
              "      <td>1735</td>\n",
              "      <td>1540</td>\n",
              "      <td>1691</td>\n",
              "      <td>...</td>\n",
              "      <td>417</td>\n",
              "      <td>422</td>\n",
              "      <td>420</td>\n",
              "      <td>395</td>\n",
              "      <td>377</td>\n",
              "      <td>368</td>\n",
              "      <td>358</td>\n",
              "      <td>351</td>\n",
              "      <td>324</td>\n",
              "      <td>332</td>\n",
              "      <td>335</td>\n",
              "      <td>325</td>\n",
              "      <td>318</td>\n",
              "      <td>302</td>\n",
              "      <td>283</td>\n",
              "      <td>276</td>\n",
              "      <td>265</td>\n",
              "      <td>251</td>\n",
              "      <td>240</td>\n",
              "      <td>236</td>\n",
              "      <td>223</td>\n",
              "      <td>216</td>\n",
              "      <td>188</td>\n",
              "      <td>162</td>\n",
              "      <td>176</td>\n",
              "      <td>142</td>\n",
              "      <td>125</td>\n",
              "      <td>129</td>\n",
              "      <td>129</td>\n",
              "      <td>106</td>\n",
              "      <td>88</td>\n",
              "      <td>107</td>\n",
              "      <td>89</td>\n",
              "      <td>54</td>\n",
              "      <td>81</td>\n",
              "      <td>54</td>\n",
              "      <td>30</td>\n",
              "      <td>11</td>\n",
              "      <td>11</td>\n",
              "      <td>0</td>\n",
              "    </tr>\n",
              "    <tr>\n",
              "      <th>3</th>\n",
              "      <td>290</td>\n",
              "      <td>381</td>\n",
              "      <td>585</td>\n",
              "      <td>999</td>\n",
              "      <td>1316</td>\n",
              "      <td>1374</td>\n",
              "      <td>1280</td>\n",
              "      <td>1380</td>\n",
              "      <td>1584</td>\n",
              "      <td>1631</td>\n",
              "      <td>1596</td>\n",
              "      <td>1603</td>\n",
              "      <td>1531</td>\n",
              "      <td>1562</td>\n",
              "      <td>1580</td>\n",
              "      <td>1526</td>\n",
              "      <td>1617</td>\n",
              "      <td>1668</td>\n",
              "      <td>1707</td>\n",
              "      <td>1704</td>\n",
              "      <td>1703</td>\n",
              "      <td>1698</td>\n",
              "      <td>1675</td>\n",
              "      <td>1680</td>\n",
              "      <td>1677</td>\n",
              "      <td>1651</td>\n",
              "      <td>1609</td>\n",
              "      <td>1620</td>\n",
              "      <td>1605</td>\n",
              "      <td>1571</td>\n",
              "      <td>1615</td>\n",
              "      <td>1609</td>\n",
              "      <td>1601</td>\n",
              "      <td>1604</td>\n",
              "      <td>1513</td>\n",
              "      <td>1499</td>\n",
              "      <td>1647</td>\n",
              "      <td>1660</td>\n",
              "      <td>1486</td>\n",
              "      <td>1620</td>\n",
              "      <td>...</td>\n",
              "      <td>401</td>\n",
              "      <td>408</td>\n",
              "      <td>411</td>\n",
              "      <td>387</td>\n",
              "      <td>365</td>\n",
              "      <td>361</td>\n",
              "      <td>346</td>\n",
              "      <td>339</td>\n",
              "      <td>310</td>\n",
              "      <td>316</td>\n",
              "      <td>325</td>\n",
              "      <td>318</td>\n",
              "      <td>304</td>\n",
              "      <td>285</td>\n",
              "      <td>276</td>\n",
              "      <td>267</td>\n",
              "      <td>260</td>\n",
              "      <td>239</td>\n",
              "      <td>223</td>\n",
              "      <td>234</td>\n",
              "      <td>201</td>\n",
              "      <td>209</td>\n",
              "      <td>176</td>\n",
              "      <td>161</td>\n",
              "      <td>164</td>\n",
              "      <td>136</td>\n",
              "      <td>127</td>\n",
              "      <td>123</td>\n",
              "      <td>131</td>\n",
              "      <td>100</td>\n",
              "      <td>86</td>\n",
              "      <td>105</td>\n",
              "      <td>85</td>\n",
              "      <td>56</td>\n",
              "      <td>75</td>\n",
              "      <td>50</td>\n",
              "      <td>30</td>\n",
              "      <td>11</td>\n",
              "      <td>19</td>\n",
              "      <td>0</td>\n",
              "    </tr>\n",
              "    <tr>\n",
              "      <th>4</th>\n",
              "      <td>219</td>\n",
              "      <td>381</td>\n",
              "      <td>585</td>\n",
              "      <td>999</td>\n",
              "      <td>1286</td>\n",
              "      <td>1352</td>\n",
              "      <td>1261</td>\n",
              "      <td>1396</td>\n",
              "      <td>1555</td>\n",
              "      <td>1618</td>\n",
              "      <td>1596</td>\n",
              "      <td>1558</td>\n",
              "      <td>1489</td>\n",
              "      <td>1532</td>\n",
              "      <td>1531</td>\n",
              "      <td>1508</td>\n",
              "      <td>1599</td>\n",
              "      <td>1632</td>\n",
              "      <td>1672</td>\n",
              "      <td>1687</td>\n",
              "      <td>1662</td>\n",
              "      <td>1664</td>\n",
              "      <td>1658</td>\n",
              "      <td>1639</td>\n",
              "      <td>1645</td>\n",
              "      <td>1612</td>\n",
              "      <td>1585</td>\n",
              "      <td>1596</td>\n",
              "      <td>1589</td>\n",
              "      <td>1525</td>\n",
              "      <td>1583</td>\n",
              "      <td>1569</td>\n",
              "      <td>1568</td>\n",
              "      <td>1566</td>\n",
              "      <td>1468</td>\n",
              "      <td>1478</td>\n",
              "      <td>1605</td>\n",
              "      <td>1612</td>\n",
              "      <td>1446</td>\n",
              "      <td>1574</td>\n",
              "      <td>...</td>\n",
              "      <td>394</td>\n",
              "      <td>410</td>\n",
              "      <td>397</td>\n",
              "      <td>376</td>\n",
              "      <td>356</td>\n",
              "      <td>351</td>\n",
              "      <td>340</td>\n",
              "      <td>332</td>\n",
              "      <td>303</td>\n",
              "      <td>318</td>\n",
              "      <td>321</td>\n",
              "      <td>315</td>\n",
              "      <td>297</td>\n",
              "      <td>287</td>\n",
              "      <td>271</td>\n",
              "      <td>265</td>\n",
              "      <td>246</td>\n",
              "      <td>230</td>\n",
              "      <td>216</td>\n",
              "      <td>226</td>\n",
              "      <td>194</td>\n",
              "      <td>202</td>\n",
              "      <td>178</td>\n",
              "      <td>150</td>\n",
              "      <td>167</td>\n",
              "      <td>127</td>\n",
              "      <td>125</td>\n",
              "      <td>120</td>\n",
              "      <td>122</td>\n",
              "      <td>96</td>\n",
              "      <td>83</td>\n",
              "      <td>105</td>\n",
              "      <td>83</td>\n",
              "      <td>48</td>\n",
              "      <td>75</td>\n",
              "      <td>50</td>\n",
              "      <td>24</td>\n",
              "      <td>9</td>\n",
              "      <td>17</td>\n",
              "      <td>0</td>\n",
              "    </tr>\n",
              "  </tbody>\n",
              "</table>\n",
              "<p>5 rows × 205 columns</p>\n",
              "</div>"
            ],
            "text/plain": [
              "   Band-1  Band-2  Band-3  Band-4  ...  Band-202  Band-203  Band-204  class\n",
              "0     290     381     585    1041  ...        36        11        17      0\n",
              "1     290     381     519    1041  ...        36        11        15      0\n",
              "2     290     381     585    1041  ...        30        11        11      0\n",
              "3     290     381     585     999  ...        30        11        19      0\n",
              "4     219     381     585     999  ...        24         9        17      0\n",
              "\n",
              "[5 rows x 205 columns]"
            ]
          },
          "metadata": {
            "tags": []
          },
          "execution_count": 59
        }
      ]
    },
    {
      "cell_type": "code",
      "metadata": {
        "id": "QYSxpgf7XRWf",
        "colab_type": "code",
        "colab": {}
      },
      "source": [
        "df.to_csv('salinas.csv',index=False)"
      ],
      "execution_count": null,
      "outputs": []
    },
    {
      "cell_type": "code",
      "metadata": {
        "id": "7xiVwwDnXlCF",
        "colab_type": "code",
        "colab": {}
      },
      "source": [
        "def plot_signature(df):\n",
        "    plt.figure(figsize=(12, 6))\n",
        "    pixel_no = np.random.randint(df.shape[0])\n",
        "    plt.plot(range(1, 205), df.iloc[pixel_no, :-1].values.tolist(), 'b--', label= f'Class - {df.iloc[pixel_no, -1]}')\n",
        "    plt.legend()\n",
        "    plt.title(f'Pixel({pixel_no}) signature', fontsize=14)\n",
        "    plt.xlabel('Band Number', fontsize=14)\n",
        "    plt.ylabel('Pixel Intensity', fontsize=14)\n",
        "    plt.show()"
      ],
      "execution_count": null,
      "outputs": []
    },
    {
      "cell_type": "code",
      "metadata": {
        "id": "Cmp5U8vZXqH5",
        "colab_type": "code",
        "colab": {
          "base_uri": "https://localhost:8080/",
          "height": 420
        },
        "outputId": "ad78f7ba-8775-4afc-9f28-6048b7988fa9"
      },
      "source": [
        "plot_signature(df)"
      ],
      "execution_count": null,
      "outputs": [
        {
          "output_type": "display_data",
          "data": {
            "image/png": "[encoded data removed]",
            "text/plain": [
              "<Figure size 864x432 with 1 Axes>"
            ]
          },
          "metadata": {
            "tags": []
          }
        }
      ]
    },
    {
      "cell_type": "code",
      "metadata": {
        "id": "o-Ta2nNA_pyX",
        "colab_type": "code",
        "colab": {}
      },
      "source": [
        "PATCH_SIZE = 11\n",
        "sa_x_padded = padWithZeros(sa_x2, PATCH_SIZE//2)"
      ],
      "execution_count": null,
      "outputs": []
    },
    {
      "cell_type": "code",
      "metadata": {
        "id": "o1rrxofGvjBZ",
        "colab_type": "code",
        "colab": {
          "base_uri": "https://localhost:8080/",
          "height": 34
        },
        "outputId": "4c2733a2-e433-4548-b098-133d31d3cad0"
      },
      "source": [
        "sa_x2.shape"
      ],
      "execution_count": null,
      "outputs": [
        {
          "output_type": "execute_result",
          "data": {
            "text/plain": [
              "(512, 217, 30)"
            ]
          },
          "metadata": {
            "tags": []
          },
          "execution_count": 64
        }
      ]
    },
    {
      "cell_type": "code",
      "metadata": {
        "id": "spYGlih0vdHs",
        "colab_type": "code",
        "colab": {
          "base_uri": "https://localhost:8080/",
          "height": 34
        },
        "outputId": "bc70771a-905a-4900-c0b3-2d4fd4c166c2"
      },
      "source": [
        "sa_x_padded.shape"
      ],
      "execution_count": null,
      "outputs": [
        {
          "output_type": "execute_result",
          "data": {
            "text/plain": [
              "(522, 227, 30)"
            ]
          },
          "metadata": {
            "tags": []
          },
          "execution_count": 65
        }
      ]
    },
    {
      "cell_type": "code",
      "metadata": {
        "id": "6ePxBtUO_joC",
        "colab_type": "code",
        "colab": {}
      },
      "source": [
        "def Patch(data,height_index,width_index):\n",
        "    height_slice = slice(height_index, height_index+PATCH_SIZE)\n",
        "    width_slice = slice(width_index, width_index+PATCH_SIZE)\n",
        "    patch = data[height_slice, width_slice, :]    \n",
        "    return patch"
      ],
      "execution_count": null,
      "outputs": []
    },
    {
      "cell_type": "markdown",
      "metadata": {
        "id": "fnjpSV29Qwk9",
        "colab_type": "text"
      },
      "source": [
        "\n",
        "**Visualization**\n"
      ]
    },
    {
      "cell_type": "code",
      "metadata": {
        "id": "eA7FejMzNyir",
        "colab_type": "code",
        "colab": {
          "base_uri": "https://localhost:8080/",
          "height": 34
        },
        "outputId": "b3cc8d7f-67fc-4ae6-8bcd-a88a52b94595"
      },
      "source": [
        "checkpoint.restore('/content/drive/My Drive/Hyperspectral Few Shot/Prototypical/Training checkpoints/Salinas/5_shot_ckpts/Train_5_shots/ckpt-34')\n"
      ],
      "execution_count": null,
      "outputs": [
        {
          "output_type": "execute_result",
          "data": {
            "text/plain": [
              "<tensorflow.python.training.tracking.util.CheckpointLoadStatus at 0x7f2edefeddd8>"
            ]
          },
          "metadata": {
            "tags": []
          },
          "execution_count": 87
        }
      ]
    },
    {
      "cell_type": "code",
      "metadata": {
        "id": "dAXOAMkZ94nq",
        "colab_type": "code",
        "colab": {}
      },
      "source": [
        "train_class_labels = [1,2,3,4,5,6,7,8,9,12]   \n",
        "test_class_labels = [10,11,13,14,15,16]\n",
        "height,width = 512,217\n",
        "outputs = np.zeros((height,width))\n",
        "for i in range(height):\n",
        "    for j in range(width):\n",
        "        target = int(sa_y[i,j])  \n",
        "        if target == 0 :     # avoid label 0\n",
        "            continue\n",
        "        elif target <= 5 :\n",
        "            temp_list = []               \n",
        "            query_labels = []\n",
        "            query_labels.append(target)\n",
        "            image_patch = Patch(sa_x_padded,i,j)   # (9, 9, 20)  # ip_x.shape: (153, 153, 20)\n",
        "            X_test_image = image_patch.reshape(1,image_patch.shape[0],image_patch.shape[1], image_patch.shape[2], 1).astype('float32')   #(1, 9, 9, 20, 1) \n",
        "            selected_classes = train_class_labels[0:5]\n",
        "            support_labels = list(selected_classes)    # [1,2,3,4,5,6,7,8]\n",
        "            support_patches = []\n",
        "            for x in selected_classes :\n",
        "              y = train_class_labels.index(int(x))\n",
        "              support_imgs = train_patches_class[y][:5,:,:,:,:]\n",
        "              support_patches.extend(support_imgs)\n",
        "            support_patches = tf.convert_to_tensor(np.reshape(np.asarray(support_patches),(25,im_height,im_width,im_depth,1)),dtype=tf.float32)\n",
        "            query_patches = X_test_image  \n",
        "            loss, mean_accuracy, mean_predictions = ProtoModel(support_patches, query_patches, support_labels, query_labels, 5, 5, 1/5,1,training=True)\n",
        "            outputs[i][j] = tf.argmax(mean_predictions,axis=1) + 1         #1 is added since trained with lowering index 1\n",
        "        elif target in train_class_labels[5:10]: \n",
        "            temp_list = []           \n",
        "            query_labels = []\n",
        "            query_labels.append(target)\n",
        "            image_patch = Patch(sa_x_padded,i,j)   # (9, 9, 20)  # ip_x.shape: (153, 153, 20)\n",
        "            X_test_image = image_patch.reshape(1,image_patch.shape[0],image_patch.shape[1], image_patch.shape[2], 1).astype('float32')   #(1, 9, 9, 20, 1) \n",
        "            selected_classes = train_class_labels[5:10]\n",
        "            support_labels = list(selected_classes)    # [1,2,3,4,5,6,7,8]\n",
        "            support_patches = []\n",
        "            for x in selected_classes :\n",
        "              y = train_class_labels.index(x)\n",
        "              support_imgs = train_patches_class[y][:5,:,:,:,:]\n",
        "              support_patches.extend(support_imgs)\n",
        "            support_patches = tf.convert_to_tensor(np.reshape(np.asarray(support_patches),(25,im_height,im_width,im_depth,1)),dtype=tf.float32)\n",
        "            query_patches = X_test_image  \n",
        "            loss, mean_accuracy, mean_predictions = ProtoModel(support_patches, query_patches, support_labels, query_labels, 5, 5, 1/5,1,training=True)\n",
        "            index = tf.argmax(mean_predictions,axis=1)\n",
        "            if index < 4 :\n",
        "              outputs[i][j] = index + 6        \n",
        "            elif index == 4 :\n",
        "              outputs[i][j] = index + 8        \n",
        "        "
      ],
      "execution_count": null,
      "outputs": []
    },
    {
      "cell_type": "code",
      "metadata": {
        "id": "KXOZ0nchOBs7",
        "colab_type": "code",
        "colab": {
          "base_uri": "https://localhost:8080/",
          "height": 34
        },
        "outputId": "220d7334-ae52-4fcb-edba-20687ad9d442"
      },
      "source": [
        "checkpoint.restore('/content/drive/My Drive/Hyperspectral Few Shot/Prototypical/Tuning checkpoints/Salinas/5_shot_ckpts/Proto_tune_5_shot_salinas_25_128/ckpt-37')"
      ],
      "execution_count": null,
      "outputs": [
        {
          "output_type": "execute_result",
          "data": {
            "text/plain": [
              "<tensorflow.python.training.tracking.util.CheckpointLoadStatus at 0x7f2eded6b2e8>"
            ]
          },
          "metadata": {
            "tags": []
          },
          "execution_count": 89
        }
      ]
    },
    {
      "cell_type": "code",
      "metadata": {
        "id": "6uQGikBwOCI0",
        "colab_type": "code",
        "colab": {}
      },
      "source": [
        "train_class_labels = [1,2,3,4,5,6,7,8,9,12]   \n",
        "test_class_labels = [10,11,13,14,15,16]\n",
        "for i in range(height):\n",
        "    for j in range(width):\n",
        "        target = int(sa_y[i,j])    #ip_y.shape: (145, 145)\n",
        "        if target == 0 :     # avoid label 0\n",
        "            continue\n",
        "        elif target in test_class_labels[0:3]:\n",
        "            temp_list = []                   \n",
        "            query_labels = []\n",
        "            query_labels.append(target)\n",
        "            image_patch = Patch(sa_x_padded,i,j)   # (9, 9, 20)  # ip_x.shape: (153, 153, 20)\n",
        "            X_test_image = image_patch.reshape(1,image_patch.shape[0],image_patch.shape[1], image_patch.shape[2], 1).astype('float32')   #(1, 9, 9, 20, 1) \n",
        "            selected_classes = test_class_labels[0:3]\n",
        "            support_labels = list(selected_classes)    # [1,2,3,4,5,6,7,8]\n",
        "            support_patches = []\n",
        "            for x in selected_classes :\n",
        "              y = test_class_labels.index(x)\n",
        "              support_imgs = test_patches_class[y][:5,:,:,:,:]\n",
        "              support_patches.extend(support_imgs)\n",
        "            support_patches = tf.convert_to_tensor(np.reshape(np.asarray(support_patches),(15,im_height,im_width,im_depth,1)),dtype=tf.float32)\n",
        "            query_patches = X_test_image  \n",
        "            loss, mean_accuracy, mean_predictions = ProtoModel(support_patches, query_patches, support_labels, query_labels, 5, 3, 1/3,1,training=True)\n",
        "            index = tf.argmax(mean_predictions,axis=1)\n",
        "            if index < 2 :\n",
        "              outputs[i][j] = index + 10 \n",
        "            elif index == 2 :\n",
        "              outputs[i][j] = index + 11\n",
        "        elif target in test_class_labels[3:6]:\n",
        "            temp_list = [] \n",
        "            query_labels = []\n",
        "            query_labels.append(target)\n",
        "            image_patch = Patch(sa_x_padded,i,j)   # (9, 9, 20)  # ip_x.shape: (153, 153, 20)\n",
        "            X_test_image = image_patch.reshape(1,image_patch.shape[0],image_patch.shape[1], image_patch.shape[2], 1).astype('float32')   #(1, 9, 9, 20, 1) \n",
        "            selected_classes = test_class_labels[3:6]\n",
        "            support_labels = list(selected_classes)    # [1,2,3,4,5,6,7,8]\n",
        "            support_patches = []\n",
        "            for x in selected_classes :\n",
        "              y = test_class_labels.index(x)\n",
        "              support_imgs = test_patches_class[y][:5,:,:,:,:]\n",
        "              support_patches.extend(support_imgs)\n",
        "            support_patches = tf.convert_to_tensor(np.reshape(np.asarray(support_patches),(15,im_height,im_width,im_depth,1)),dtype=tf.float32)\n",
        "            query_patches = X_test_image  \n",
        "            loss, mean_accuracy, mean_predictions = ProtoModel(support_patches, query_patches, support_labels, query_labels, 5, 3, 1/3,1,training=True)\n",
        "            outputs[i][j] = tf.argmax(mean_predictions,axis=1) + 14         #1 is added since trained with lowering index 1"
      ],
      "execution_count": null,
      "outputs": []
    },
    {
      "cell_type": "code",
      "metadata": {
        "id": "ZicQ-apx9611",
        "colab_type": "code",
        "colab": {
          "base_uri": "https://localhost:8080/",
          "height": 446
        },
        "outputId": "fc832c28-8ca6-467d-9528-2e865c7bea43"
      },
      "source": [
        "predict_image = spectral.imshow(classes = outputs.astype(int),figsize = (7,7)) "
      ],
      "execution_count": null,
      "outputs": [
        {
          "output_type": "display_data",
          "data": {
            "image/png": "[encoded data removed]",
            "text/plain": [
              "<Figure size 504x504 with 1 Axes>"
            ]
          },
          "metadata": {
            "tags": []
          }
        }
      ]
    },
    {
      "cell_type": "code",
      "metadata": {
        "id": "0PW_B7UlMZ7J",
        "colab_type": "code",
        "colab": {
          "base_uri": "https://localhost:8080/",
          "height": 446
        },
        "outputId": "35a155ec-6e62-4062-ed61-9051849514df"
      },
      "source": [
        "ground_truth = spectral.imshow(classes = sa_y,figsize =(7,7))   # 0-16"
      ],
      "execution_count": null,
      "outputs": [
        {
          "output_type": "display_data",
          "data": {
            "image/png": "[encoded data removed]",
            "text/plain": [
              "<Figure size 504x504 with 1 Axes>"
            ]
          },
          "metadata": {
            "tags": []
          }
        }
      ]
    }
  ]
}